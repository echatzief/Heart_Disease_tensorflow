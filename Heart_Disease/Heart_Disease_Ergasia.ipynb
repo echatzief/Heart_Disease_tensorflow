{
 "cells": [
  {
   "cell_type": "markdown",
   "metadata": {},
   "source": [
    "<br>\n",
    "<h1 align=\"center\">Heart Disease - Classification</h1>\n",
    "<br>"
   ]
  },
  {
   "cell_type": "markdown",
   "metadata": {},
   "source": [
    "## $\\triangleright$ Our dataset :\n",
    "\n",
    "$\\bullet$ Αυτό το dataset περιέχει 76 χαρακτηριστικά,αλλά από αυτά θα χρησιμοποιήσουμε ένα subset των 14 χαρακτηριστικών.Γενικότερα η Cleveland βάση είναι από τις λίγες βάσεις πάνω στο ML.Το target field της αναφέρεται στην εμφάνιση καρδιακών προβλημάτων σε έναν ασθενή.Η βάση υπάρχει στο <a href=\"https://www.kaggle.com/ronitf/heart-disease-uci\">Kaggle</a> και ονόμαζεται Heart Disease UCI.\n",
    "\n",
    "$\\bullet$ Tι χαρακτηριστικά θα χρησιμοποιήσουμε :\n",
    "\n",
    "1. Ηλικία\n",
    "2. Φύλο\n",
    "3. Τύπους θωρακικού πόνου (4 τιμές)\n",
    "4. Αρτηριακή πίεση\n",
    "5. Όρια χοληστερίνης σε mg/dl\n",
    "6. Ζάχαρο στο αίμα > 120 mg/dl\n",
    "7. Αποτελέσματα ηλεκτρογραφημάτων ( 0,1,2)\n",
    "8. Μέγιστοι χτύποι καρδίας\n",
    "9. Άσκηση που προκαλείται από στηθάγχη.\n",
    "10. oldpeak \n",
    "11. Την κλίση σε γράφημα ασκήσεων\n",
    "12. Aριθμός αγγείων (0-3) χρωματισμένα με φλουροσόπη\n",
    "13. thal: 3 = normal; 6 = fixed defect; 7 = reversable defect\n",
    "\n",
    "\n",
    "\n",
    "1. age \n",
    "2. sex \n",
    "3. chest pain type (4 values) \n",
    "4. resting blood pressure \n",
    "5. serum cholestoral in mg/dl \n",
    "6. fasting blood sugar > 120 mg/dl\n",
    "7. resting electrocardiographic results (values 0,1,2)\n",
    "8. maximum heart rate achieved \n",
    "9. exercise induced angina \n",
    "10. oldpeak = ST depression induced by exercise relative to rest \n",
    "11. the slope of the peak exercise ST segment \n",
    "12. number of major vessels (0-3) colored by flourosopy \n",
    "13. thal: 3 = normal; 6 = fixed defect; 7 = reversable defect\n",
    "\n",
    "14. target\n",
    "\n",
    "\n",
    "$\\bullet$ Έχοντας όλα τα παραπάνω χαρακτηριστικά θα μελετήσουμε το συγκεκριμένο πρόβλημα classification με τις μεθόδους LinearClassifier και DNNClassifier που μας παρέχει η tensorflow.Η μία μέθοδος χρησιμοποιεί έναν γραμμικό classifier ενώ η άλλη αντίστοιχα ένα νευρωνικό δίκτυο που εκπαιδεύεται για να το classification του συγκεκριμένου προβλήματος."
   ]
  },
  {
   "cell_type": "markdown",
   "metadata": {},
   "source": [
    "## $\\triangleright$ Libraries we use :"
   ]
  },
  {
   "cell_type": "code",
   "execution_count": 17,
   "metadata": {},
   "outputs": [],
   "source": [
    "import pandas as pd\n",
    "import numpy as np\n",
    "from sklearn.preprocessing import MinMaxScaler\n",
    "import tensorflow as tf\n",
    "from sklearn.model_selection import train_test_split\n",
    "from feature_selector import FeatureSelector #Na perigrapsw pws to kanw egkatastash\n",
    "from sklearn.tree import DecisionTreeClassifier\n",
    "from sklearn.ensemble import RandomForestClassifier\n",
    "from sklearn.neighbors import KNeighborsClassifier\n",
    "from sklearn.metrics import accuracy_score,confusion_matrix"
   ]
  },
  {
   "cell_type": "markdown",
   "metadata": {},
   "source": [
    "## $\\triangleright$ Read the dataset :"
   ]
  },
  {
   "cell_type": "code",
   "execution_count": 350,
   "metadata": {},
   "outputs": [
    {
     "data": {
      "text/html": [
       "<div>\n",
       "<style scoped>\n",
       "    .dataframe tbody tr th:only-of-type {\n",
       "        vertical-align: middle;\n",
       "    }\n",
       "\n",
       "    .dataframe tbody tr th {\n",
       "        vertical-align: top;\n",
       "    }\n",
       "\n",
       "    .dataframe thead th {\n",
       "        text-align: right;\n",
       "    }\n",
       "</style>\n",
       "<table border=\"1\" class=\"dataframe\">\n",
       "  <thead>\n",
       "    <tr style=\"text-align: right;\">\n",
       "      <th></th>\n",
       "      <th>age</th>\n",
       "      <th>sex</th>\n",
       "      <th>cp</th>\n",
       "      <th>trestbps</th>\n",
       "      <th>chol</th>\n",
       "      <th>fbs</th>\n",
       "      <th>restecg</th>\n",
       "      <th>thalach</th>\n",
       "      <th>exang</th>\n",
       "      <th>oldpeak</th>\n",
       "      <th>slope</th>\n",
       "      <th>ca</th>\n",
       "      <th>thal</th>\n",
       "      <th>target</th>\n",
       "    </tr>\n",
       "  </thead>\n",
       "  <tbody>\n",
       "    <tr>\n",
       "      <th>0</th>\n",
       "      <td>63</td>\n",
       "      <td>1</td>\n",
       "      <td>3</td>\n",
       "      <td>145</td>\n",
       "      <td>233</td>\n",
       "      <td>1</td>\n",
       "      <td>0</td>\n",
       "      <td>150</td>\n",
       "      <td>0</td>\n",
       "      <td>2.3</td>\n",
       "      <td>0</td>\n",
       "      <td>0</td>\n",
       "      <td>1</td>\n",
       "      <td>1</td>\n",
       "    </tr>\n",
       "    <tr>\n",
       "      <th>1</th>\n",
       "      <td>37</td>\n",
       "      <td>1</td>\n",
       "      <td>2</td>\n",
       "      <td>130</td>\n",
       "      <td>250</td>\n",
       "      <td>0</td>\n",
       "      <td>1</td>\n",
       "      <td>187</td>\n",
       "      <td>0</td>\n",
       "      <td>3.5</td>\n",
       "      <td>0</td>\n",
       "      <td>0</td>\n",
       "      <td>2</td>\n",
       "      <td>1</td>\n",
       "    </tr>\n",
       "    <tr>\n",
       "      <th>2</th>\n",
       "      <td>41</td>\n",
       "      <td>0</td>\n",
       "      <td>1</td>\n",
       "      <td>130</td>\n",
       "      <td>204</td>\n",
       "      <td>0</td>\n",
       "      <td>0</td>\n",
       "      <td>172</td>\n",
       "      <td>0</td>\n",
       "      <td>1.4</td>\n",
       "      <td>2</td>\n",
       "      <td>0</td>\n",
       "      <td>2</td>\n",
       "      <td>1</td>\n",
       "    </tr>\n",
       "    <tr>\n",
       "      <th>3</th>\n",
       "      <td>56</td>\n",
       "      <td>1</td>\n",
       "      <td>1</td>\n",
       "      <td>120</td>\n",
       "      <td>236</td>\n",
       "      <td>0</td>\n",
       "      <td>1</td>\n",
       "      <td>178</td>\n",
       "      <td>0</td>\n",
       "      <td>0.8</td>\n",
       "      <td>2</td>\n",
       "      <td>0</td>\n",
       "      <td>2</td>\n",
       "      <td>1</td>\n",
       "    </tr>\n",
       "    <tr>\n",
       "      <th>4</th>\n",
       "      <td>57</td>\n",
       "      <td>0</td>\n",
       "      <td>0</td>\n",
       "      <td>120</td>\n",
       "      <td>354</td>\n",
       "      <td>0</td>\n",
       "      <td>1</td>\n",
       "      <td>163</td>\n",
       "      <td>1</td>\n",
       "      <td>0.6</td>\n",
       "      <td>2</td>\n",
       "      <td>0</td>\n",
       "      <td>2</td>\n",
       "      <td>1</td>\n",
       "    </tr>\n",
       "  </tbody>\n",
       "</table>\n",
       "</div>"
      ],
      "text/plain": [
       "   age  sex  cp  trestbps  chol  fbs  restecg  thalach  exang  oldpeak  slope  \\\n",
       "0   63    1   3       145   233    1        0      150      0      2.3      0   \n",
       "1   37    1   2       130   250    0        1      187      0      3.5      0   \n",
       "2   41    0   1       130   204    0        0      172      0      1.4      2   \n",
       "3   56    1   1       120   236    0        1      178      0      0.8      2   \n",
       "4   57    0   0       120   354    0        1      163      1      0.6      2   \n",
       "\n",
       "   ca  thal  target  \n",
       "0   0     1       1  \n",
       "1   0     2       1  \n",
       "2   0     2       1  \n",
       "3   0     2       1  \n",
       "4   0     2       1  "
      ]
     },
     "execution_count": 350,
     "metadata": {},
     "output_type": "execute_result"
    }
   ],
   "source": [
    "dataset = pd.read_csv('heart.csv')\n",
    "dataset.head()"
   ]
  },
  {
   "cell_type": "code",
   "execution_count": 351,
   "metadata": {},
   "outputs": [
    {
     "data": {
      "text/html": [
       "<div>\n",
       "<style scoped>\n",
       "    .dataframe tbody tr th:only-of-type {\n",
       "        vertical-align: middle;\n",
       "    }\n",
       "\n",
       "    .dataframe tbody tr th {\n",
       "        vertical-align: top;\n",
       "    }\n",
       "\n",
       "    .dataframe thead th {\n",
       "        text-align: right;\n",
       "    }\n",
       "</style>\n",
       "<table border=\"1\" class=\"dataframe\">\n",
       "  <thead>\n",
       "    <tr style=\"text-align: right;\">\n",
       "      <th></th>\n",
       "      <th>age</th>\n",
       "      <th>sex</th>\n",
       "      <th>cp</th>\n",
       "      <th>trestbps</th>\n",
       "      <th>chol</th>\n",
       "      <th>fbs</th>\n",
       "      <th>restecg</th>\n",
       "      <th>thalach</th>\n",
       "      <th>exang</th>\n",
       "      <th>oldpeak</th>\n",
       "      <th>slope</th>\n",
       "      <th>ca</th>\n",
       "      <th>thal</th>\n",
       "      <th>target</th>\n",
       "    </tr>\n",
       "  </thead>\n",
       "  <tbody>\n",
       "    <tr>\n",
       "      <th>298</th>\n",
       "      <td>57</td>\n",
       "      <td>0</td>\n",
       "      <td>0</td>\n",
       "      <td>140</td>\n",
       "      <td>241</td>\n",
       "      <td>0</td>\n",
       "      <td>1</td>\n",
       "      <td>123</td>\n",
       "      <td>1</td>\n",
       "      <td>0.2</td>\n",
       "      <td>1</td>\n",
       "      <td>0</td>\n",
       "      <td>3</td>\n",
       "      <td>0</td>\n",
       "    </tr>\n",
       "    <tr>\n",
       "      <th>299</th>\n",
       "      <td>45</td>\n",
       "      <td>1</td>\n",
       "      <td>3</td>\n",
       "      <td>110</td>\n",
       "      <td>264</td>\n",
       "      <td>0</td>\n",
       "      <td>1</td>\n",
       "      <td>132</td>\n",
       "      <td>0</td>\n",
       "      <td>1.2</td>\n",
       "      <td>1</td>\n",
       "      <td>0</td>\n",
       "      <td>3</td>\n",
       "      <td>0</td>\n",
       "    </tr>\n",
       "    <tr>\n",
       "      <th>300</th>\n",
       "      <td>68</td>\n",
       "      <td>1</td>\n",
       "      <td>0</td>\n",
       "      <td>144</td>\n",
       "      <td>193</td>\n",
       "      <td>1</td>\n",
       "      <td>1</td>\n",
       "      <td>141</td>\n",
       "      <td>0</td>\n",
       "      <td>3.4</td>\n",
       "      <td>1</td>\n",
       "      <td>2</td>\n",
       "      <td>3</td>\n",
       "      <td>0</td>\n",
       "    </tr>\n",
       "    <tr>\n",
       "      <th>301</th>\n",
       "      <td>57</td>\n",
       "      <td>1</td>\n",
       "      <td>0</td>\n",
       "      <td>130</td>\n",
       "      <td>131</td>\n",
       "      <td>0</td>\n",
       "      <td>1</td>\n",
       "      <td>115</td>\n",
       "      <td>1</td>\n",
       "      <td>1.2</td>\n",
       "      <td>1</td>\n",
       "      <td>1</td>\n",
       "      <td>3</td>\n",
       "      <td>0</td>\n",
       "    </tr>\n",
       "    <tr>\n",
       "      <th>302</th>\n",
       "      <td>57</td>\n",
       "      <td>0</td>\n",
       "      <td>1</td>\n",
       "      <td>130</td>\n",
       "      <td>236</td>\n",
       "      <td>0</td>\n",
       "      <td>0</td>\n",
       "      <td>174</td>\n",
       "      <td>0</td>\n",
       "      <td>0.0</td>\n",
       "      <td>1</td>\n",
       "      <td>1</td>\n",
       "      <td>2</td>\n",
       "      <td>0</td>\n",
       "    </tr>\n",
       "  </tbody>\n",
       "</table>\n",
       "</div>"
      ],
      "text/plain": [
       "     age  sex  cp  trestbps  chol  fbs  restecg  thalach  exang  oldpeak  \\\n",
       "298   57    0   0       140   241    0        1      123      1      0.2   \n",
       "299   45    1   3       110   264    0        1      132      0      1.2   \n",
       "300   68    1   0       144   193    1        1      141      0      3.4   \n",
       "301   57    1   0       130   131    0        1      115      1      1.2   \n",
       "302   57    0   1       130   236    0        0      174      0      0.0   \n",
       "\n",
       "     slope  ca  thal  target  \n",
       "298      1   0     3       0  \n",
       "299      1   0     3       0  \n",
       "300      1   2     3       0  \n",
       "301      1   1     3       0  \n",
       "302      1   1     2       0  "
      ]
     },
     "execution_count": 351,
     "metadata": {},
     "output_type": "execute_result"
    }
   ],
   "source": [
    "dataset.tail()"
   ]
  },
  {
   "cell_type": "markdown",
   "metadata": {},
   "source": [
    "## $\\triangleright$ Correlation of the features"
   ]
  },
  {
   "cell_type": "code",
   "execution_count": 352,
   "metadata": {},
   "outputs": [
    {
     "name": "stdout",
     "output_type": "stream",
     "text": [
      "10 features with a correlation magnitude greater than 0.10.\n",
      "\n",
      "4 features with a correlation magnitude greater than 0.30.\n",
      "\n"
     ]
    },
    {
     "data": {
      "image/png": "[encoded data removed]",
      "text/plain": [
       "<Figure size 720x576 with 2 Axes>"
      ]
     },
     "metadata": {
      "needs_background": "light"
     },
     "output_type": "display_data"
    },
    {
     "data": {
      "image/png": "[encoded data removed]",
      "text/plain": [
       "<Figure size 720x576 with 2 Axes>"
      ]
     },
     "metadata": {
      "needs_background": "light"
     },
     "output_type": "display_data"
    }
   ],
   "source": [
    "#Separate the data to features,target\n",
    "columns=['age','sex','cp','trestbps','chol','fbs','restecg','thalach','exang','oldpeak','slope','ca','thal']\n",
    "features = pd.read_csv('heart.csv',usecols=columns)\n",
    "\n",
    "target = pd.read_csv('heart.csv',usecols=[\"target\"])\n",
    "\n",
    "#Plot the cor\n",
    "fs = FeatureSelector(data = features, labels = target)\n",
    "fs.identify_collinear(correlation_threshold=0.10)\n",
    "fs.plot_collinear(plot_all=True)\n",
    "\n",
    "fs = FeatureSelector(data = features, labels = target)\n",
    "fs.identify_collinear(correlation_threshold=0.30)\n",
    "fs.plot_collinear(plot_all=True)"
   ]
  },
  {
   "cell_type": "markdown",
   "metadata": {},
   "source": [
    "## $\\triangleright$ Normalization:"
   ]
  },
  {
   "cell_type": "code",
   "execution_count": 353,
   "metadata": {},
   "outputs": [
    {
     "name": "stdout",
     "output_type": "stream",
     "text": [
      "[[0.70833333 1.         1.         ... 0.         0.         0.33333333]\n",
      " [0.16666667 1.         0.66666667 ... 0.         0.         0.66666667]\n",
      " [0.25       0.         0.33333333 ... 1.         0.         0.66666667]\n",
      " ...\n",
      " [0.8125     1.         0.         ... 0.5        0.5        1.        ]\n",
      " [0.58333333 1.         0.         ... 0.5        0.25       1.        ]\n",
      " [0.58333333 0.         0.33333333 ... 0.5        0.25       0.66666667]]\n"
     ]
    }
   ],
   "source": [
    "#Turn to array\n",
    "features = np.array(features)\n",
    "target = np.array(target)\n",
    "\n",
    "#Normalization\n",
    "scaler = MinMaxScaler(feature_range=(0, 1))\n",
    "features = scaler.fit_transform(features)\n",
    "print(features)"
   ]
  },
  {
   "cell_type": "markdown",
   "metadata": {},
   "source": [
    "## $\\triangleright$ Train-Test split"
   ]
  },
  {
   "cell_type": "code",
   "execution_count": 354,
   "metadata": {},
   "outputs": [],
   "source": [
    "#Split the data in order to train and test the model\n",
    "trainX,testX,trainY,testY = train_test_split(features,target,test_size=0.3)\n",
    "\n",
    "#Turn to array\n",
    "trainX = np.array(trainX)\n",
    "testX = np.array(testX)\n",
    "trainY = np.array(trainY)\n",
    "testY = np.array(testY)"
   ]
  },
  {
   "cell_type": "markdown",
   "metadata": {},
   "source": [
    "## $\\triangleright$ Decision Tree Classifier"
   ]
  },
  {
   "cell_type": "code",
   "execution_count": 355,
   "metadata": {},
   "outputs": [
    {
     "name": "stdout",
     "output_type": "stream",
     "text": [
      "Accuracy:  0.7472527472527473\n",
      "Confusion Matrix: \n",
      "[[25 12]\n",
      " [11 43]]\n"
     ]
    }
   ],
   "source": [
    "#Initialize and train the classifier\n",
    "clf = DecisionTreeClassifier()\n",
    "clf = clf.fit(trainX, trainY)\n",
    "\n",
    "#Test the classifier in order to get some metrics\n",
    "yPred = clf.predict(testX)\n",
    "accuracy = accuracy_score(testY,yPred)\n",
    "print(\"Accuracy: \",accuracy)\n",
    "print(\"Confusion Matrix: \")\n",
    "print(confusion_matrix(testY,yPred))"
   ]
  },
  {
   "cell_type": "markdown",
   "metadata": {},
   "source": [
    "## $\\triangleright$ Random Forest Classifier"
   ]
  },
  {
   "cell_type": "code",
   "execution_count": 356,
   "metadata": {},
   "outputs": [
    {
     "name": "stdout",
     "output_type": "stream",
     "text": [
      "Accuracy:  0.8131868131868132\n",
      "Confusion Matrix: \n",
      "[[29  8]\n",
      " [ 9 45]]\n"
     ]
    }
   ],
   "source": [
    "#Initialize and train the classifier\n",
    "clf = RandomForestClassifier(n_estimators=len(features), max_depth=None)\n",
    "clf.fit(trainX,trainY.flatten())\n",
    "\n",
    "#Test the classifier in order to get some metrics\n",
    "yPred = clf.predict(testX)\n",
    "accuracy = accuracy_score(testY,yPred)\n",
    "print(\"Accuracy: \",accuracy)\n",
    "print(\"Confusion Matrix: \")\n",
    "print(confusion_matrix(testY,yPred))"
   ]
  },
  {
   "cell_type": "markdown",
   "metadata": {},
   "source": [
    "## $\\triangleright$ KNeighbors Classifier"
   ]
  },
  {
   "cell_type": "code",
   "execution_count": 1,
   "metadata": {},
   "outputs": [
    {
     "ename": "NameError",
     "evalue": "name 'KNeighborsClassifier' is not defined",
     "output_type": "error",
     "traceback": [
      "\u001b[0;31m---------------------------------------------------------------------------\u001b[0m",
      "\u001b[0;31mNameError\u001b[0m                                 Traceback (most recent call last)",
      "\u001b[0;32m<ipython-input-1-bdc2d67748f9>\u001b[0m in \u001b[0;36m<module>\u001b[0;34m\u001b[0m\n\u001b[0;32m----> 1\u001b[0;31m \u001b[0mneigh\u001b[0m \u001b[0;34m=\u001b[0m \u001b[0mKNeighborsClassifier\u001b[0m\u001b[0;34m(\u001b[0m\u001b[0malgorithm\u001b[0m\u001b[0;34m=\u001b[0m\u001b[0;34m'brute'\u001b[0m\u001b[0;34m,\u001b[0m\u001b[0mn_neighbors\u001b[0m\u001b[0;34m=\u001b[0m\u001b[0;34m(\u001b[0m\u001b[0mlen\u001b[0m\u001b[0;34m(\u001b[0m\u001b[0mtrainX\u001b[0m\u001b[0;34m)\u001b[0m\u001b[0;34m//\u001b[0m\u001b[0;36m2\u001b[0m\u001b[0;34m)\u001b[0m\u001b[0;34m)\u001b[0m\u001b[0;34m\u001b[0m\u001b[0;34m\u001b[0m\u001b[0m\n\u001b[0m\u001b[1;32m      2\u001b[0m \u001b[0mneigh\u001b[0m\u001b[0;34m.\u001b[0m\u001b[0mfit\u001b[0m\u001b[0;34m(\u001b[0m\u001b[0mtrainX\u001b[0m\u001b[0;34m,\u001b[0m\u001b[0mtrainY\u001b[0m\u001b[0;34m.\u001b[0m\u001b[0mflatten\u001b[0m\u001b[0;34m(\u001b[0m\u001b[0;34m)\u001b[0m\u001b[0;34m)\u001b[0m\u001b[0;34m\u001b[0m\u001b[0;34m\u001b[0m\u001b[0m\n\u001b[1;32m      3\u001b[0m \u001b[0;34m\u001b[0m\u001b[0m\n\u001b[1;32m      4\u001b[0m \u001b[0;31m#Test the classifier in order to get some metrics\u001b[0m\u001b[0;34m\u001b[0m\u001b[0;34m\u001b[0m\u001b[0;34m\u001b[0m\u001b[0m\n\u001b[1;32m      5\u001b[0m \u001b[0myPred\u001b[0m \u001b[0;34m=\u001b[0m \u001b[0mneigh\u001b[0m\u001b[0;34m.\u001b[0m\u001b[0mpredict\u001b[0m\u001b[0;34m(\u001b[0m\u001b[0mtestX\u001b[0m\u001b[0;34m)\u001b[0m\u001b[0;34m\u001b[0m\u001b[0;34m\u001b[0m\u001b[0m\n",
      "\u001b[0;31mNameError\u001b[0m: name 'KNeighborsClassifier' is not defined"
     ]
    }
   ],
   "source": [
    "neigh = KNeighborsClassifier(algorithm='brute',n_neighbors=(len(trainX)//2))\n",
    "neigh.fit(trainX,trainY.flatten())\n",
    "\n",
    "#Test the classifier in order to get some metrics\n",
    "yPred = neigh.predict(testX)\n",
    "accuracy = accuracy_score(testY,yPred)\n",
    "print(\"Accuracy: \",accuracy)\n",
    "print(\"Confusion Matrix: \")\n",
    "print(confusion_matrix(testY,yPred))"
   ]
  },
  {
   "cell_type": "markdown",
   "metadata": {},
   "source": [
    "## $\\triangleright$ Turn data to dictionary"
   ]
  },
  {
   "cell_type": "code",
   "execution_count": 358,
   "metadata": {},
   "outputs": [],
   "source": [
    "#Transofrm the data to dictionary format in order to use as a tensor\n",
    "trainX={'age':trainX[:,0],'sex':trainX[:,1],'cp':trainX[:,2],'trestbps':trainX[:,3],'chol':trainX[:,4],'fbs':trainX[:,5],'restecg':trainX[:,6],'thalach':trainX[:,7],'exang':trainX[:,8],'oldpeak':trainX[:,9],'slope':trainX[:,10],'ca':trainX[:,11],'thal':trainX[:,12]}\n",
    "testX={'age':testX[:,0],'sex':testX[:,1],'cp':testX[:,2],'trestbps':testX[:,3],'chol':testX[:,4],'fbs':testX[:,5],'restecg':testX[:,6],'thalach':testX[:,7],'exang':testX[:,8],'oldpeak':testX[:,9],'slope':testX[:,10],'ca':testX[:,11],'thal':testX[:,12]}"
   ]
  },
  {
   "cell_type": "markdown",
   "metadata": {},
   "source": [
    "## $\\triangleright$ Create the feature columns to be accessed in the model"
   ]
  },
  {
   "cell_type": "code",
   "execution_count": 359,
   "metadata": {},
   "outputs": [],
   "source": [
    "#Create the feature columns\n",
    "feature_columns = [tf.feature_column.numeric_column(k) for k in columns]"
   ]
  },
  {
   "cell_type": "markdown",
   "metadata": {},
   "source": [
    "## $\\triangleright$ Preparing the inputs for train,test"
   ]
  },
  {
   "cell_type": "code",
   "execution_count": 360,
   "metadata": {},
   "outputs": [],
   "source": [
    "train_input_fn = tf.estimator.inputs.numpy_input_fn(\n",
    " x=trainX,\n",
    " y=trainY,\n",
    " num_epochs=None,\n",
    " batch_size=1,\n",
    " shuffle=True\n",
    ")\n",
    "\n",
    "evaluateInputFunction = tf.estimator.inputs.numpy_input_fn(\n",
    "    x=testX,\n",
    "    y=testY,\n",
    "    num_epochs=1,\n",
    "    shuffle=False\n",
    ")"
   ]
  },
  {
   "cell_type": "markdown",
   "metadata": {},
   "source": [
    "## $\\triangleright$ Linear Classifier"
   ]
  },
  {
   "cell_type": "code",
   "execution_count": 361,
   "metadata": {
    "scrolled": true
   },
   "outputs": [
    {
     "name": "stdout",
     "output_type": "stream",
     "text": [
      "INFO:tensorflow:Using default config.\n",
      "WARNING:tensorflow:Using temporary folder as model directory: /tmp/tmpwo0fmhb9\n",
      "INFO:tensorflow:Using config: {'_model_dir': '/tmp/tmpwo0fmhb9', '_tf_random_seed': None, '_save_summary_steps': 100, '_save_checkpoints_steps': None, '_save_checkpoints_secs': 600, '_session_config': None, '_keep_checkpoint_max': 5, '_keep_checkpoint_every_n_hours': 10000, '_log_step_count_steps': 100, '_service': None, '_cluster_spec': <tensorflow.python.training.server_lib.ClusterSpec object at 0x7f3c4d19a4e0>, '_task_type': 'worker', '_task_id': 0, '_master': '', '_is_chief': True, '_num_ps_replicas': 0, '_num_worker_replicas': 1}\n",
      "INFO:tensorflow:Create CheckpointSaverHook.\n",
      "INFO:tensorflow:Saving checkpoints for 1 into /tmp/tmpwo0fmhb9/model.ckpt.\n",
      "INFO:tensorflow:loss = 2.5649493, step = 1\n",
      "INFO:tensorflow:global_step/sec: 642.32\n",
      "INFO:tensorflow:loss = 0.13566996, step = 101 (0.158 sec)\n",
      "INFO:tensorflow:global_step/sec: 897.235\n",
      "INFO:tensorflow:loss = 0.035777286, step = 201 (0.113 sec)\n",
      "INFO:tensorflow:global_step/sec: 882.647\n",
      "INFO:tensorflow:loss = 0.036825832, step = 301 (0.113 sec)\n",
      "INFO:tensorflow:global_step/sec: 802.57\n",
      "INFO:tensorflow:loss = 0.12438384, step = 401 (0.126 sec)\n",
      "INFO:tensorflow:global_step/sec: 946.716\n",
      "INFO:tensorflow:loss = 0.29511824, step = 501 (0.103 sec)\n",
      "INFO:tensorflow:global_step/sec: 835.248\n",
      "INFO:tensorflow:loss = 0.4154059, step = 601 (0.121 sec)\n",
      "INFO:tensorflow:global_step/sec: 895.671\n",
      "INFO:tensorflow:loss = 0.7082607, step = 701 (0.110 sec)\n",
      "INFO:tensorflow:global_step/sec: 903.332\n",
      "INFO:tensorflow:loss = 0.117813446, step = 801 (0.110 sec)\n",
      "INFO:tensorflow:global_step/sec: 951.536\n",
      "INFO:tensorflow:loss = 0.19942936, step = 901 (0.107 sec)\n",
      "INFO:tensorflow:global_step/sec: 917.962\n",
      "INFO:tensorflow:loss = 0.033823147, step = 1001 (0.107 sec)\n",
      "INFO:tensorflow:global_step/sec: 842.641\n",
      "INFO:tensorflow:loss = 0.041605, step = 1101 (0.119 sec)\n",
      "INFO:tensorflow:global_step/sec: 965.553\n",
      "INFO:tensorflow:loss = 0.11629791, step = 1201 (0.104 sec)\n",
      "INFO:tensorflow:global_step/sec: 893.009\n",
      "INFO:tensorflow:loss = 0.14806578, step = 1301 (0.114 sec)\n",
      "INFO:tensorflow:global_step/sec: 891.794\n",
      "INFO:tensorflow:loss = 0.015923599, step = 1401 (0.110 sec)\n",
      "INFO:tensorflow:global_step/sec: 854.677\n",
      "INFO:tensorflow:loss = 0.22975549, step = 1501 (0.118 sec)\n",
      "INFO:tensorflow:global_step/sec: 959.971\n",
      "INFO:tensorflow:loss = 0.029684225, step = 1601 (0.103 sec)\n",
      "INFO:tensorflow:global_step/sec: 878.383\n",
      "INFO:tensorflow:loss = 0.11533408, step = 1701 (0.122 sec)\n",
      "INFO:tensorflow:global_step/sec: 834.098\n",
      "INFO:tensorflow:loss = 0.7576028, step = 1801 (0.112 sec)\n",
      "INFO:tensorflow:global_step/sec: 878.937\n",
      "INFO:tensorflow:loss = 0.012448352, step = 1901 (0.113 sec)\n",
      "INFO:tensorflow:global_step/sec: 857.705\n",
      "INFO:tensorflow:loss = 0.02602754, step = 2001 (0.117 sec)\n",
      "INFO:tensorflow:global_step/sec: 828.84\n",
      "INFO:tensorflow:loss = 0.52180046, step = 2101 (0.123 sec)\n",
      "INFO:tensorflow:global_step/sec: 919.447\n",
      "INFO:tensorflow:loss = 0.0703342, step = 2201 (0.109 sec)\n",
      "INFO:tensorflow:global_step/sec: 893.66\n",
      "INFO:tensorflow:loss = 0.028467935, step = 2301 (0.112 sec)\n",
      "INFO:tensorflow:global_step/sec: 847.911\n",
      "INFO:tensorflow:loss = 0.18715397, step = 2401 (0.124 sec)\n",
      "INFO:tensorflow:global_step/sec: 626.572\n",
      "INFO:tensorflow:loss = 0.118981935, step = 2501 (0.153 sec)\n",
      "INFO:tensorflow:global_step/sec: 706.745\n",
      "INFO:tensorflow:loss = 0.08094345, step = 2601 (0.146 sec)\n",
      "INFO:tensorflow:global_step/sec: 580.264\n",
      "INFO:tensorflow:loss = 0.18981713, step = 2701 (0.167 sec)\n",
      "INFO:tensorflow:global_step/sec: 726.758\n",
      "INFO:tensorflow:loss = 2.3203087, step = 2801 (0.137 sec)\n",
      "INFO:tensorflow:global_step/sec: 735.262\n",
      "INFO:tensorflow:loss = 0.13651416, step = 2901 (0.136 sec)\n",
      "INFO:tensorflow:global_step/sec: 765.225\n",
      "INFO:tensorflow:loss = 0.8532518, step = 3001 (0.131 sec)\n",
      "INFO:tensorflow:global_step/sec: 742.803\n",
      "INFO:tensorflow:loss = 0.5783918, step = 3101 (0.136 sec)\n",
      "INFO:tensorflow:global_step/sec: 790.738\n",
      "INFO:tensorflow:loss = 0.03371954, step = 3201 (0.125 sec)\n",
      "INFO:tensorflow:global_step/sec: 831.52\n",
      "INFO:tensorflow:loss = 0.29666653, step = 3301 (0.118 sec)\n",
      "INFO:tensorflow:global_step/sec: 795.948\n",
      "INFO:tensorflow:loss = 0.015428946, step = 3401 (0.127 sec)\n",
      "INFO:tensorflow:global_step/sec: 793.1\n",
      "INFO:tensorflow:loss = 0.24397933, step = 3501 (0.124 sec)\n",
      "INFO:tensorflow:global_step/sec: 839.865\n",
      "INFO:tensorflow:loss = 0.011759131, step = 3601 (0.119 sec)\n",
      "INFO:tensorflow:global_step/sec: 763.974\n",
      "INFO:tensorflow:loss = 0.15218186, step = 3701 (0.133 sec)\n",
      "INFO:tensorflow:global_step/sec: 849.118\n",
      "INFO:tensorflow:loss = 0.22133929, step = 3801 (0.117 sec)\n",
      "INFO:tensorflow:global_step/sec: 743.096\n",
      "INFO:tensorflow:loss = 0.02122778, step = 3901 (0.136 sec)\n",
      "INFO:tensorflow:global_step/sec: 944.942\n",
      "INFO:tensorflow:loss = 0.06453321, step = 4001 (0.108 sec)\n",
      "INFO:tensorflow:global_step/sec: 691.457\n",
      "INFO:tensorflow:loss = 0.03274503, step = 4101 (0.140 sec)\n",
      "INFO:tensorflow:global_step/sec: 804.842\n",
      "INFO:tensorflow:loss = 0.39569852, step = 4201 (0.124 sec)\n",
      "INFO:tensorflow:global_step/sec: 700.129\n",
      "INFO:tensorflow:loss = 0.052971516, step = 4301 (0.146 sec)\n",
      "INFO:tensorflow:global_step/sec: 712.297\n",
      "INFO:tensorflow:loss = 0.59970456, step = 4401 (0.139 sec)\n",
      "INFO:tensorflow:global_step/sec: 804.632\n",
      "INFO:tensorflow:loss = 2.313046, step = 4501 (0.122 sec)\n",
      "INFO:tensorflow:global_step/sec: 834.115\n",
      "INFO:tensorflow:loss = 0.11445894, step = 4601 (0.126 sec)\n",
      "INFO:tensorflow:global_step/sec: 744.256\n",
      "INFO:tensorflow:loss = 0.08710002, step = 4701 (0.133 sec)\n",
      "INFO:tensorflow:global_step/sec: 681.944\n",
      "INFO:tensorflow:loss = 0.023563826, step = 4801 (0.142 sec)\n",
      "INFO:tensorflow:global_step/sec: 726.8\n",
      "INFO:tensorflow:loss = 0.48026583, step = 4901 (0.137 sec)\n",
      "INFO:tensorflow:global_step/sec: 1023.03\n",
      "INFO:tensorflow:loss = 0.06400221, step = 5001 (0.106 sec)\n",
      "INFO:tensorflow:global_step/sec: 656.164\n",
      "INFO:tensorflow:loss = 0.090703875, step = 5101 (0.144 sec)\n",
      "INFO:tensorflow:global_step/sec: 897.711\n",
      "INFO:tensorflow:loss = 0.11374179, step = 5201 (0.113 sec)\n",
      "INFO:tensorflow:global_step/sec: 672.906\n",
      "INFO:tensorflow:loss = 0.5842995, step = 5301 (0.149 sec)\n",
      "INFO:tensorflow:global_step/sec: 755.551\n",
      "INFO:tensorflow:loss = 0.8525604, step = 5401 (0.131 sec)\n",
      "INFO:tensorflow:global_step/sec: 944.391\n",
      "INFO:tensorflow:loss = 1.1188632, step = 5501 (0.107 sec)\n",
      "INFO:tensorflow:global_step/sec: 947.951\n",
      "INFO:tensorflow:loss = 0.11066219, step = 5601 (0.105 sec)\n",
      "INFO:tensorflow:global_step/sec: 1006.84\n",
      "INFO:tensorflow:loss = 0.5676995, step = 5701 (0.101 sec)\n",
      "INFO:tensorflow:global_step/sec: 819.727\n",
      "INFO:tensorflow:loss = 1.9698638, step = 5801 (0.119 sec)\n",
      "INFO:tensorflow:global_step/sec: 854.27\n",
      "INFO:tensorflow:loss = 1.2261622, step = 5901 (0.117 sec)\n",
      "INFO:tensorflow:global_step/sec: 724.815\n",
      "INFO:tensorflow:loss = 0.06974802, step = 6001 (0.143 sec)\n",
      "INFO:tensorflow:global_step/sec: 719.95\n",
      "INFO:tensorflow:loss = 0.046015963, step = 6101 (0.133 sec)\n",
      "INFO:tensorflow:global_step/sec: 938.758\n",
      "INFO:tensorflow:loss = 0.0755196, step = 6201 (0.109 sec)\n",
      "INFO:tensorflow:global_step/sec: 753.838\n",
      "INFO:tensorflow:loss = 0.006157594, step = 6301 (0.132 sec)\n",
      "INFO:tensorflow:global_step/sec: 755.781\n",
      "INFO:tensorflow:loss = 0.02714181, step = 6401 (0.131 sec)\n",
      "INFO:tensorflow:global_step/sec: 817.651\n",
      "INFO:tensorflow:loss = 0.029679481, step = 6501 (0.122 sec)\n",
      "INFO:tensorflow:global_step/sec: 988.738\n",
      "INFO:tensorflow:loss = 0.014039562, step = 6601 (0.101 sec)\n",
      "INFO:tensorflow:global_step/sec: 933.983\n",
      "INFO:tensorflow:loss = 0.021793175, step = 6701 (0.107 sec)\n",
      "INFO:tensorflow:global_step/sec: 999.577\n",
      "INFO:tensorflow:loss = 0.053568967, step = 6801 (0.100 sec)\n",
      "INFO:tensorflow:global_step/sec: 894.833\n",
      "INFO:tensorflow:loss = 0.7241369, step = 6901 (0.112 sec)\n",
      "INFO:tensorflow:global_step/sec: 888.801\n",
      "INFO:tensorflow:loss = 0.31893903, step = 7001 (0.112 sec)\n",
      "INFO:tensorflow:global_step/sec: 778.985\n",
      "INFO:tensorflow:loss = 0.004057153, step = 7101 (0.128 sec)\n",
      "INFO:tensorflow:global_step/sec: 814.63\n",
      "INFO:tensorflow:loss = 0.9957307, step = 7201 (0.123 sec)\n",
      "INFO:tensorflow:global_step/sec: 876.404\n",
      "INFO:tensorflow:loss = 0.35980508, step = 7301 (0.114 sec)\n",
      "INFO:tensorflow:global_step/sec: 750.892\n",
      "INFO:tensorflow:loss = 0.4538081, step = 7401 (0.133 sec)\n"
     ]
    },
    {
     "name": "stdout",
     "output_type": "stream",
     "text": [
      "INFO:tensorflow:global_step/sec: 788.031\n",
      "INFO:tensorflow:loss = 0.296965, step = 7501 (0.129 sec)\n",
      "INFO:tensorflow:global_step/sec: 861.953\n",
      "INFO:tensorflow:loss = 0.9838354, step = 7601 (0.114 sec)\n",
      "INFO:tensorflow:global_step/sec: 800.05\n",
      "INFO:tensorflow:loss = 0.51594, step = 7701 (0.125 sec)\n",
      "INFO:tensorflow:global_step/sec: 819.991\n",
      "INFO:tensorflow:loss = 0.005353638, step = 7801 (0.121 sec)\n",
      "INFO:tensorflow:global_step/sec: 838.502\n",
      "INFO:tensorflow:loss = 0.24079321, step = 7901 (0.119 sec)\n",
      "INFO:tensorflow:global_step/sec: 877.552\n",
      "INFO:tensorflow:loss = 0.3061378, step = 8001 (0.114 sec)\n",
      "INFO:tensorflow:global_step/sec: 313.409\n",
      "INFO:tensorflow:loss = 0.1345845, step = 8101 (0.318 sec)\n",
      "INFO:tensorflow:global_step/sec: 765.758\n",
      "INFO:tensorflow:loss = 0.0350852, step = 8201 (0.133 sec)\n",
      "INFO:tensorflow:global_step/sec: 609.101\n",
      "INFO:tensorflow:loss = 0.023463571, step = 8301 (0.162 sec)\n",
      "INFO:tensorflow:global_step/sec: 839.971\n",
      "INFO:tensorflow:loss = 0.012320366, step = 8401 (0.126 sec)\n",
      "INFO:tensorflow:global_step/sec: 609.952\n",
      "INFO:tensorflow:loss = 0.039555322, step = 8501 (0.158 sec)\n",
      "INFO:tensorflow:global_step/sec: 730.195\n",
      "INFO:tensorflow:loss = 0.008208468, step = 8601 (0.137 sec)\n",
      "INFO:tensorflow:global_step/sec: 663.852\n",
      "INFO:tensorflow:loss = 0.11603342, step = 8701 (0.152 sec)\n",
      "INFO:tensorflow:global_step/sec: 636.673\n",
      "INFO:tensorflow:loss = 0.02590581, step = 8801 (0.155 sec)\n",
      "INFO:tensorflow:global_step/sec: 793.273\n",
      "INFO:tensorflow:loss = 0.014341026, step = 8901 (0.126 sec)\n",
      "INFO:tensorflow:global_step/sec: 826.692\n",
      "INFO:tensorflow:loss = 2.9559343, step = 9001 (0.121 sec)\n",
      "INFO:tensorflow:global_step/sec: 679.868\n",
      "INFO:tensorflow:loss = 0.016613824, step = 9101 (0.148 sec)\n",
      "INFO:tensorflow:global_step/sec: 806.515\n",
      "INFO:tensorflow:loss = 0.0029744927, step = 9201 (0.125 sec)\n",
      "INFO:tensorflow:global_step/sec: 854.067\n",
      "INFO:tensorflow:loss = 0.057651136, step = 9301 (0.115 sec)\n",
      "INFO:tensorflow:global_step/sec: 830.99\n",
      "INFO:tensorflow:loss = 0.030515462, step = 9401 (0.120 sec)\n",
      "INFO:tensorflow:global_step/sec: 855.931\n",
      "INFO:tensorflow:loss = 0.0051745772, step = 9501 (0.117 sec)\n",
      "INFO:tensorflow:global_step/sec: 807.914\n",
      "INFO:tensorflow:loss = 0.034714628, step = 9601 (0.124 sec)\n",
      "INFO:tensorflow:global_step/sec: 723.876\n",
      "INFO:tensorflow:loss = 0.03453902, step = 9701 (0.137 sec)\n",
      "INFO:tensorflow:global_step/sec: 959.753\n",
      "INFO:tensorflow:loss = 0.21309982, step = 9801 (0.104 sec)\n",
      "INFO:tensorflow:global_step/sec: 902.16\n",
      "INFO:tensorflow:loss = 0.017328998, step = 9901 (0.111 sec)\n",
      "INFO:tensorflow:Saving checkpoints for 10000 into /tmp/tmpwo0fmhb9/model.ckpt.\n",
      "INFO:tensorflow:Loss for final step: 0.047558326.\n"
     ]
    },
    {
     "data": {
      "text/plain": [
       "<tensorflow.python.estimator.canned.linear.LinearClassifier at 0x7f3c4d19ad68>"
      ]
     },
     "execution_count": 361,
     "metadata": {},
     "output_type": "execute_result"
    }
   ],
   "source": [
    "#Create the model\n",
    "linearClassifier =tf.estimator.LinearClassifier(feature_columns=feature_columns,n_classes=len(columns))\n",
    "\n",
    "#Train the model\n",
    "linearClassifier.train(input_fn=train_input_fn,steps=10000)"
   ]
  },
  {
   "cell_type": "markdown",
   "metadata": {},
   "source": [
    "## $\\triangleright$ Evaluate Linear Classifier"
   ]
  },
  {
   "cell_type": "code",
   "execution_count": 362,
   "metadata": {},
   "outputs": [
    {
     "name": "stdout",
     "output_type": "stream",
     "text": [
      "INFO:tensorflow:Starting evaluation at 2019-04-03-16:58:48\n",
      "INFO:tensorflow:Restoring parameters from /tmp/tmpwo0fmhb9/model.ckpt-10000\n",
      "INFO:tensorflow:Finished evaluation at 2019-04-03-16:58:48\n",
      "INFO:tensorflow:Saving dict for global step 10000: accuracy = 0.82417583, average_loss = 0.3797314, global_step = 10000, loss = 34.555557\n"
     ]
    },
    {
     "data": {
      "text/plain": [
       "{'accuracy': 0.82417583,\n",
       " 'average_loss': 0.3797314,\n",
       " 'loss': 34.555557,\n",
       " 'global_step': 10000}"
      ]
     },
     "execution_count": 362,
     "metadata": {},
     "output_type": "execute_result"
    }
   ],
   "source": [
    "linearClassifier.evaluate(evaluateInputFunction)"
   ]
  },
  {
   "cell_type": "markdown",
   "metadata": {},
   "source": [
    "## $\\triangleright$ Deep Neural Network Classifier"
   ]
  },
  {
   "cell_type": "code",
   "execution_count": 363,
   "metadata": {
    "scrolled": true
   },
   "outputs": [
    {
     "name": "stdout",
     "output_type": "stream",
     "text": [
      "INFO:tensorflow:Using default config.\n",
      "WARNING:tensorflow:Using temporary folder as model directory: /tmp/tmpnndu0ngu\n",
      "INFO:tensorflow:Using config: {'_model_dir': '/tmp/tmpnndu0ngu', '_tf_random_seed': None, '_save_summary_steps': 100, '_save_checkpoints_steps': None, '_save_checkpoints_secs': 600, '_session_config': None, '_keep_checkpoint_max': 5, '_keep_checkpoint_every_n_hours': 10000, '_log_step_count_steps': 100, '_service': None, '_cluster_spec': <tensorflow.python.training.server_lib.ClusterSpec object at 0x7f3c31320438>, '_task_type': 'worker', '_task_id': 0, '_master': '', '_is_chief': True, '_num_ps_replicas': 0, '_num_worker_replicas': 1}\n",
      "INFO:tensorflow:Create CheckpointSaverHook.\n",
      "INFO:tensorflow:Saving checkpoints for 1 into /tmp/tmpnndu0ngu/model.ckpt.\n",
      "INFO:tensorflow:loss = 2.8837109, step = 1\n",
      "INFO:tensorflow:global_step/sec: 700.626\n",
      "INFO:tensorflow:loss = 2.2735758, step = 101 (0.146 sec)\n",
      "INFO:tensorflow:global_step/sec: 856.531\n",
      "INFO:tensorflow:loss = 2.0172217, step = 201 (0.115 sec)\n",
      "INFO:tensorflow:global_step/sec: 933.079\n",
      "INFO:tensorflow:loss = 1.4135684, step = 301 (0.110 sec)\n",
      "INFO:tensorflow:global_step/sec: 872.047\n",
      "INFO:tensorflow:loss = 1.2444404, step = 401 (0.114 sec)\n",
      "INFO:tensorflow:global_step/sec: 901.115\n",
      "INFO:tensorflow:loss = 0.81255966, step = 501 (0.112 sec)\n",
      "INFO:tensorflow:global_step/sec: 875.121\n",
      "INFO:tensorflow:loss = 0.77284425, step = 601 (0.112 sec)\n",
      "INFO:tensorflow:global_step/sec: 843.169\n",
      "INFO:tensorflow:loss = 0.57460797, step = 701 (0.119 sec)\n",
      "INFO:tensorflow:global_step/sec: 925.924\n",
      "INFO:tensorflow:loss = 0.50013834, step = 801 (0.107 sec)\n",
      "INFO:tensorflow:global_step/sec: 981.9\n",
      "INFO:tensorflow:loss = 0.7573501, step = 901 (0.103 sec)\n",
      "INFO:tensorflow:global_step/sec: 1023.02\n",
      "INFO:tensorflow:loss = 0.61660826, step = 1001 (0.097 sec)\n",
      "INFO:tensorflow:global_step/sec: 853.743\n",
      "INFO:tensorflow:loss = 0.6172636, step = 1101 (0.119 sec)\n",
      "INFO:tensorflow:global_step/sec: 953.921\n",
      "INFO:tensorflow:loss = 0.54978776, step = 1201 (0.106 sec)\n",
      "INFO:tensorflow:global_step/sec: 968.509\n",
      "INFO:tensorflow:loss = 0.20638043, step = 1301 (0.101 sec)\n",
      "INFO:tensorflow:global_step/sec: 947.82\n",
      "INFO:tensorflow:loss = 0.9320701, step = 1401 (0.105 sec)\n",
      "INFO:tensorflow:global_step/sec: 934.962\n",
      "INFO:tensorflow:loss = 0.38957158, step = 1501 (0.107 sec)\n",
      "INFO:tensorflow:global_step/sec: 920.367\n",
      "INFO:tensorflow:loss = 0.26071495, step = 1601 (0.118 sec)\n",
      "INFO:tensorflow:global_step/sec: 879.682\n",
      "INFO:tensorflow:loss = 0.13828409, step = 1701 (0.109 sec)\n",
      "INFO:tensorflow:global_step/sec: 902.657\n",
      "INFO:tensorflow:loss = 0.6642287, step = 1801 (0.108 sec)\n",
      "INFO:tensorflow:global_step/sec: 939.647\n",
      "INFO:tensorflow:loss = 0.3589216, step = 1901 (0.104 sec)\n",
      "INFO:tensorflow:global_step/sec: 1007.56\n",
      "INFO:tensorflow:loss = 0.044923905, step = 2001 (0.103 sec)\n",
      "INFO:tensorflow:global_step/sec: 899.185\n",
      "INFO:tensorflow:loss = 0.06284041, step = 2101 (0.111 sec)\n",
      "INFO:tensorflow:global_step/sec: 863.482\n",
      "INFO:tensorflow:loss = 0.32752696, step = 2201 (0.113 sec)\n",
      "INFO:tensorflow:global_step/sec: 878.203\n",
      "INFO:tensorflow:loss = 0.122226276, step = 2301 (0.116 sec)\n",
      "INFO:tensorflow:global_step/sec: 856.715\n",
      "INFO:tensorflow:loss = 0.3519645, step = 2401 (0.115 sec)\n",
      "INFO:tensorflow:global_step/sec: 905.842\n",
      "INFO:tensorflow:loss = 0.09956557, step = 2501 (0.110 sec)\n",
      "INFO:tensorflow:global_step/sec: 909.431\n",
      "INFO:tensorflow:loss = 0.44039378, step = 2601 (0.111 sec)\n",
      "INFO:tensorflow:global_step/sec: 866.499\n",
      "INFO:tensorflow:loss = 0.5182883, step = 2701 (0.119 sec)\n",
      "INFO:tensorflow:global_step/sec: 829.77\n",
      "INFO:tensorflow:loss = 0.048527256, step = 2801 (0.117 sec)\n",
      "INFO:tensorflow:global_step/sec: 811.362\n",
      "INFO:tensorflow:loss = 0.033731177, step = 2901 (0.128 sec)\n",
      "INFO:tensorflow:global_step/sec: 863.651\n",
      "INFO:tensorflow:loss = 0.14328028, step = 3001 (0.110 sec)\n",
      "INFO:tensorflow:global_step/sec: 943.866\n",
      "INFO:tensorflow:loss = 1.3746254, step = 3101 (0.109 sec)\n",
      "INFO:tensorflow:global_step/sec: 1012.03\n",
      "INFO:tensorflow:loss = 0.89785236, step = 3201 (0.097 sec)\n",
      "INFO:tensorflow:global_step/sec: 924.495\n",
      "INFO:tensorflow:loss = 0.04004792, step = 3301 (0.111 sec)\n",
      "INFO:tensorflow:global_step/sec: 881.942\n",
      "INFO:tensorflow:loss = 0.082354635, step = 3401 (0.114 sec)\n",
      "INFO:tensorflow:global_step/sec: 973.4\n",
      "INFO:tensorflow:loss = 0.07486555, step = 3501 (0.100 sec)\n",
      "INFO:tensorflow:global_step/sec: 996.575\n",
      "INFO:tensorflow:loss = 0.038253583, step = 3601 (0.102 sec)\n",
      "INFO:tensorflow:global_step/sec: 781.459\n",
      "INFO:tensorflow:loss = 1.7339126, step = 3701 (0.126 sec)\n",
      "INFO:tensorflow:global_step/sec: 878.512\n",
      "INFO:tensorflow:loss = 0.52066755, step = 3801 (0.111 sec)\n",
      "INFO:tensorflow:global_step/sec: 769.685\n",
      "INFO:tensorflow:loss = 0.038300965, step = 3901 (0.130 sec)\n",
      "INFO:tensorflow:global_step/sec: 824.889\n",
      "INFO:tensorflow:loss = 0.02783431, step = 4001 (0.122 sec)\n",
      "INFO:tensorflow:global_step/sec: 617.43\n",
      "INFO:tensorflow:loss = 0.3677523, step = 4101 (0.163 sec)\n",
      "INFO:tensorflow:global_step/sec: 412.44\n",
      "INFO:tensorflow:loss = 0.129069, step = 4201 (0.240 sec)\n",
      "INFO:tensorflow:global_step/sec: 628.217\n",
      "INFO:tensorflow:loss = 0.83626556, step = 4301 (0.159 sec)\n",
      "INFO:tensorflow:global_step/sec: 811.879\n",
      "INFO:tensorflow:loss = 0.9845538, step = 4401 (0.123 sec)\n",
      "INFO:tensorflow:global_step/sec: 876.113\n",
      "INFO:tensorflow:loss = 0.018146215, step = 4501 (0.114 sec)\n",
      "INFO:tensorflow:global_step/sec: 709.66\n",
      "INFO:tensorflow:loss = 0.023867438, step = 4601 (0.142 sec)\n",
      "INFO:tensorflow:global_step/sec: 637.497\n",
      "INFO:tensorflow:loss = 0.05809767, step = 4701 (0.156 sec)\n",
      "INFO:tensorflow:global_step/sec: 902.003\n",
      "INFO:tensorflow:loss = 0.7713154, step = 4801 (0.111 sec)\n",
      "INFO:tensorflow:global_step/sec: 1101.64\n",
      "INFO:tensorflow:loss = 0.35524243, step = 4901 (0.092 sec)\n",
      "INFO:tensorflow:global_step/sec: 914.495\n",
      "INFO:tensorflow:loss = 0.07579359, step = 5001 (0.108 sec)\n",
      "INFO:tensorflow:global_step/sec: 879.7\n",
      "INFO:tensorflow:loss = 0.018660001, step = 5101 (0.114 sec)\n",
      "INFO:tensorflow:global_step/sec: 909.971\n",
      "INFO:tensorflow:loss = 0.031374775, step = 5201 (0.110 sec)\n",
      "INFO:tensorflow:global_step/sec: 794.406\n",
      "INFO:tensorflow:loss = 0.13073646, step = 5301 (0.126 sec)\n",
      "INFO:tensorflow:global_step/sec: 855.481\n",
      "INFO:tensorflow:loss = 0.48548457, step = 5401 (0.117 sec)\n",
      "INFO:tensorflow:global_step/sec: 855.619\n",
      "INFO:tensorflow:loss = 0.28368568, step = 5501 (0.117 sec)\n",
      "INFO:tensorflow:global_step/sec: 821.527\n",
      "INFO:tensorflow:loss = 0.020342411, step = 5601 (0.122 sec)\n",
      "INFO:tensorflow:global_step/sec: 819.844\n",
      "INFO:tensorflow:loss = 0.3157605, step = 5701 (0.122 sec)\n",
      "INFO:tensorflow:global_step/sec: 1080.14\n",
      "INFO:tensorflow:loss = 0.021223579, step = 5801 (0.095 sec)\n",
      "INFO:tensorflow:global_step/sec: 884.121\n",
      "INFO:tensorflow:loss = 0.12984048, step = 5901 (0.110 sec)\n",
      "INFO:tensorflow:global_step/sec: 916.327\n",
      "INFO:tensorflow:loss = 0.10034343, step = 6001 (0.109 sec)\n",
      "INFO:tensorflow:global_step/sec: 916.313\n",
      "INFO:tensorflow:loss = 0.13728397, step = 6101 (0.111 sec)\n",
      "INFO:tensorflow:global_step/sec: 784.626\n",
      "INFO:tensorflow:loss = 0.013112154, step = 6201 (0.126 sec)\n",
      "INFO:tensorflow:global_step/sec: 847.271\n",
      "INFO:tensorflow:loss = 0.0667872, step = 6301 (0.118 sec)\n",
      "INFO:tensorflow:global_step/sec: 818.7\n",
      "INFO:tensorflow:loss = 0.6855066, step = 6401 (0.122 sec)\n",
      "INFO:tensorflow:global_step/sec: 899.725\n",
      "INFO:tensorflow:loss = 0.0060244165, step = 6501 (0.111 sec)\n",
      "INFO:tensorflow:global_step/sec: 1000.71\n",
      "INFO:tensorflow:loss = 0.17642094, step = 6601 (0.102 sec)\n",
      "INFO:tensorflow:global_step/sec: 1045.08\n",
      "INFO:tensorflow:loss = 1.0470214, step = 6701 (0.095 sec)\n",
      "INFO:tensorflow:global_step/sec: 800.441\n",
      "INFO:tensorflow:loss = 0.032458067, step = 6801 (0.123 sec)\n",
      "INFO:tensorflow:global_step/sec: 878.127\n",
      "INFO:tensorflow:loss = 0.0616164, step = 6901 (0.114 sec)\n",
      "INFO:tensorflow:global_step/sec: 826.397\n",
      "INFO:tensorflow:loss = 0.79660386, step = 7001 (0.121 sec)\n",
      "INFO:tensorflow:global_step/sec: 869.525\n",
      "INFO:tensorflow:loss = 0.022306839, step = 7101 (0.115 sec)\n",
      "INFO:tensorflow:global_step/sec: 835.479\n",
      "INFO:tensorflow:loss = 0.6434106, step = 7201 (0.120 sec)\n",
      "INFO:tensorflow:global_step/sec: 890.684\n",
      "INFO:tensorflow:loss = 0.4097723, step = 7301 (0.112 sec)\n",
      "INFO:tensorflow:global_step/sec: 794.939\n",
      "INFO:tensorflow:loss = 0.006446637, step = 7401 (0.126 sec)\n",
      "INFO:tensorflow:global_step/sec: 822.79\n"
     ]
    },
    {
     "name": "stdout",
     "output_type": "stream",
     "text": [
      "INFO:tensorflow:loss = 0.7892659, step = 7501 (0.122 sec)\n",
      "INFO:tensorflow:global_step/sec: 875.789\n",
      "INFO:tensorflow:loss = 0.6783413, step = 7601 (0.114 sec)\n",
      "INFO:tensorflow:global_step/sec: 893.544\n",
      "INFO:tensorflow:loss = 1.8669571, step = 7701 (0.112 sec)\n",
      "INFO:tensorflow:global_step/sec: 835.153\n",
      "INFO:tensorflow:loss = 0.79098177, step = 7801 (0.120 sec)\n",
      "INFO:tensorflow:global_step/sec: 886.831\n",
      "INFO:tensorflow:loss = 1.56823, step = 7901 (0.113 sec)\n",
      "INFO:tensorflow:global_step/sec: 981.183\n",
      "INFO:tensorflow:loss = 0.18037938, step = 8001 (0.102 sec)\n",
      "INFO:tensorflow:global_step/sec: 870.049\n",
      "INFO:tensorflow:loss = 0.42772064, step = 8101 (0.115 sec)\n",
      "INFO:tensorflow:global_step/sec: 1093.96\n",
      "INFO:tensorflow:loss = 0.2665862, step = 8201 (0.093 sec)\n",
      "INFO:tensorflow:global_step/sec: 795.501\n",
      "INFO:tensorflow:loss = 0.3705255, step = 8301 (0.124 sec)\n",
      "INFO:tensorflow:global_step/sec: 840.752\n",
      "INFO:tensorflow:loss = 0.026458003, step = 8401 (0.119 sec)\n",
      "INFO:tensorflow:global_step/sec: 807.75\n",
      "INFO:tensorflow:loss = 0.10718794, step = 8501 (0.124 sec)\n",
      "INFO:tensorflow:global_step/sec: 993.111\n",
      "INFO:tensorflow:loss = 0.0099671995, step = 8601 (0.101 sec)\n",
      "INFO:tensorflow:global_step/sec: 759.869\n",
      "INFO:tensorflow:loss = 0.06624658, step = 8701 (0.131 sec)\n",
      "INFO:tensorflow:global_step/sec: 1040.27\n",
      "INFO:tensorflow:loss = 0.092658505, step = 8801 (0.096 sec)\n",
      "INFO:tensorflow:global_step/sec: 863.237\n",
      "INFO:tensorflow:loss = 0.6081628, step = 8901 (0.116 sec)\n",
      "INFO:tensorflow:global_step/sec: 661.478\n",
      "INFO:tensorflow:loss = 0.17641056, step = 9001 (0.151 sec)\n",
      "INFO:tensorflow:global_step/sec: 1002.93\n",
      "INFO:tensorflow:loss = 0.2723714, step = 9101 (0.101 sec)\n",
      "INFO:tensorflow:global_step/sec: 814.808\n",
      "INFO:tensorflow:loss = 0.015625194, step = 9201 (0.121 sec)\n",
      "INFO:tensorflow:global_step/sec: 659.934\n",
      "INFO:tensorflow:loss = 0.04709068, step = 9301 (0.153 sec)\n",
      "INFO:tensorflow:global_step/sec: 716.916\n",
      "INFO:tensorflow:loss = 0.2407249, step = 9401 (0.139 sec)\n",
      "INFO:tensorflow:global_step/sec: 898.134\n",
      "INFO:tensorflow:loss = 0.01755568, step = 9501 (0.111 sec)\n",
      "INFO:tensorflow:global_step/sec: 659.393\n",
      "INFO:tensorflow:loss = 0.20237775, step = 9601 (0.153 sec)\n",
      "INFO:tensorflow:global_step/sec: 726.3\n",
      "INFO:tensorflow:loss = 0.5543631, step = 9701 (0.136 sec)\n",
      "INFO:tensorflow:global_step/sec: 745.923\n",
      "INFO:tensorflow:loss = 1.4249688, step = 9801 (0.134 sec)\n",
      "INFO:tensorflow:global_step/sec: 714.226\n",
      "INFO:tensorflow:loss = 0.10207515, step = 9901 (0.140 sec)\n",
      "INFO:tensorflow:Saving checkpoints for 10000 into /tmp/tmpnndu0ngu/model.ckpt.\n",
      "INFO:tensorflow:Loss for final step: 0.018298624.\n"
     ]
    },
    {
     "data": {
      "text/plain": [
       "<tensorflow.python.estimator.canned.dnn.DNNClassifier at 0x7f3c313da0f0>"
      ]
     },
     "execution_count": 363,
     "metadata": {},
     "output_type": "execute_result"
    }
   ],
   "source": [
    "#Create the model\n",
    "dnnClassifierModel = tf.estimator.DNNClassifier(\n",
    " feature_columns=feature_columns,\n",
    " hidden_units=[256, 32],\n",
    " optimizer=tf.train.AdamOptimizer(1e-4),\n",
    " n_classes=len(columns),\n",
    ")\n",
    "\n",
    "#Train the model\n",
    "dnnClassifierModel.train(input_fn=train_input_fn, steps=10000)"
   ]
  },
  {
   "cell_type": "markdown",
   "metadata": {},
   "source": [
    "## $\\triangleright$ Evaluate Deep Neural Network Classifier"
   ]
  },
  {
   "cell_type": "code",
   "execution_count": 16,
   "metadata": {},
   "outputs": [
    {
     "name": "stdout",
     "output_type": "stream",
     "text": [
      "INFO:tensorflow:Calling model_fn.\n",
      "INFO:tensorflow:Done calling model_fn.\n",
      "INFO:tensorflow:Starting evaluation at 2019-04-16T21:53:07Z\n",
      "INFO:tensorflow:Graph was finalized.\n",
      "INFO:tensorflow:Restoring parameters from /tmp/tmpg6_vzz0x/model.ckpt-10000\n",
      "INFO:tensorflow:Running local_init_op.\n",
      "INFO:tensorflow:Done running local_init_op.\n",
      "INFO:tensorflow:Finished evaluation at 2019-04-16-21:53:07\n",
      "INFO:tensorflow:Saving dict for global step 10000: accuracy = 0.82417583, average_loss = 0.31599855, global_step = 10000, loss = 28.755869\n",
      "INFO:tensorflow:Saving 'checkpoint_path' summary for global step 10000: /tmp/tmpg6_vzz0x/model.ckpt-10000\n"
     ]
    },
    {
     "data": {
      "text/plain": [
       "{'accuracy': 0.82417583,\n",
       " 'average_loss': 0.31599855,\n",
       " 'loss': 28.755869,\n",
       " 'global_step': 10000}"
      ]
     },
     "execution_count": 16,
     "metadata": {},
     "output_type": "execute_result"
    }
   ],
   "source": [
    "dnnClassifierModel.evaluate(evaluateInputFunction)"
   ]
  },
  {
   "cell_type": "code",
   "execution_count": null,
   "metadata": {},
   "outputs": [],
   "source": []
  }
 ],
 "metadata": {
  "kernelspec": {
   "display_name": "Python 3",
   "language": "python",
   "name": "python3"
  },
  "language_info": {
   "codemirror_mode": {
    "name": "ipython",
    "version": 3
   },
   "file_extension": ".py",
   "mimetype": "text/x-python",
   "name": "python",
   "nbconvert_exporter": "python",
   "pygments_lexer": "ipython3",
   "version": "3.6.8"
  }
 },
 "nbformat": 4,
 "nbformat_minor": 2
}
