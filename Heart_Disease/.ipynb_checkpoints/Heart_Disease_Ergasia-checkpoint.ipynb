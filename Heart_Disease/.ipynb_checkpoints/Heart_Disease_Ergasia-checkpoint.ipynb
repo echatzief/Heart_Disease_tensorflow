{
 "cells": [
  {
   "cell_type": "markdown",
   "metadata": {},
   "source": [
    "<br>\n",
    "<h1 align=\"center\">Heart Disease - Classification</h1>\n",
    "<br>"
   ]
  },
  {
   "cell_type": "markdown",
   "metadata": {},
   "source": [
    "## $\\triangleright$ Our dataset :\n",
    "\n",
    "$\\bullet$ Αυτό το dataset περιέχει 76 χαρακτηριστικά,αλλά από αυτά θα χρησιμοποιήσουμε ένα subset των 14 χαρακτηριστικών.Γενικότερα η Cleveland βάση είναι από τις λίγες βάσεις πάνω στο ML.Το target field της αναφέρεται στην εμφάνιση καρδιακών προβλημάτων σε έναν ασθενή.Η βάση υπάρχει στο <a href=\"https://www.kaggle.com/ronitf/heart-disease-uci\">Kaggle</a> και ονόμαζεται Heart Disease UCI.\n",
    "\n",
    "$\\bullet$ Tι χαρακτηριστικά θα χρησιμοποιήσουμε :\n",
    "\n",
    "1. Ηλικία\n",
    "2. Φύλο\n",
    "3. Τύπους θωρακικού πόνου (4 τιμές)\n",
    "4. Αρτηριακή πίεση\n",
    "5. Όρια χοληστερίνης σε mg/dl\n",
    "6. Ζάχαρο στο αίμα > 120 mg/dl\n",
    "7. Αποτελέσματα ηλεκτρογραφημάτων ( 0,1,2)\n",
    "8. Μέγιστοι χτύποι καρδίας\n",
    "9. Άσκηση που προκαλείται από στηθάγχη.\n",
    "10. oldpeak \n",
    "11. Την κλίση σε γράφημα ασκήσεων\n",
    "12. Aριθμός αγγείων (0-3) χρωματισμένα με φλουροσόπη\n",
    "13. thal: 3 = normal; 6 = fixed defect; 7 = reversable defect\n",
    "\n",
    "\n",
    "\n",
    "1. age \n",
    "2. sex \n",
    "3. chest pain type (4 values) \n",
    "4. resting blood pressure \n",
    "5. serum cholestoral in mg/dl \n",
    "6. fasting blood sugar > 120 mg/dl\n",
    "7. resting electrocardiographic results (values 0,1,2)\n",
    "8. maximum heart rate achieved \n",
    "9. exercise induced angina \n",
    "10. oldpeak = ST depression induced by exercise relative to rest \n",
    "11. the slope of the peak exercise ST segment \n",
    "12. number of major vessels (0-3) colored by flourosopy \n",
    "13. thal: 3 = normal; 6 = fixed defect; 7 = reversable defect\n",
    "\n",
    "14. target\n",
    "\n",
    "\n",
    "$\\bullet$ Έχοντας όλα τα παραπάνω χαρακτηριστικά θα μελετήσουμε το συγκεκριμένο πρόβλημα classification με τις μεθόδους LinearClassifier και DNNClassifier που μας παρέχει η tensorflow.Η μία μέθοδος χρησιμοποιεί έναν γραμμικό classifier ενώ η άλλη αντίστοιχα ένα νευρωνικό δίκτυο που εκπαιδεύεται για να το classification του συγκεκριμένου προβλήματος."
   ]
  },
  {
   "cell_type": "markdown",
   "metadata": {},
   "source": [
    "## $\\triangleright$ Libraries we use :"
   ]
  },
  {
   "cell_type": "code",
   "execution_count": 332,
   "metadata": {},
   "outputs": [],
   "source": [
    "import pandas as pd\n",
    "import numpy as np\n",
    "from sklearn.preprocessing import MinMaxScaler\n",
    "import tensorflow as tf\n",
    "from sklearn.model_selection import train_test_split\n",
    "from feature_selector import FeatureSelector #Na perigrapsw pws to kanw egkatastash\n",
    "from sklearn.tree import DecisionTreeClassifier\n",
    "from sklearn.ensemble import RandomForestClassifier\n",
    "from sklearn.neighbors import KNeighborsClassifier\n",
    "from sklearn.metrics import accuracy_score,confusion_matrix"
   ]
  },
  {
   "cell_type": "markdown",
   "metadata": {},
   "source": [
    "## $\\triangleright$ Read the dataset :"
   ]
  },
  {
   "cell_type": "code",
   "execution_count": 333,
   "metadata": {},
   "outputs": [
    {
     "data": {
      "text/html": [
       "<div>\n",
       "<style scoped>\n",
       "    .dataframe tbody tr th:only-of-type {\n",
       "        vertical-align: middle;\n",
       "    }\n",
       "\n",
       "    .dataframe tbody tr th {\n",
       "        vertical-align: top;\n",
       "    }\n",
       "\n",
       "    .dataframe thead th {\n",
       "        text-align: right;\n",
       "    }\n",
       "</style>\n",
       "<table border=\"1\" class=\"dataframe\">\n",
       "  <thead>\n",
       "    <tr style=\"text-align: right;\">\n",
       "      <th></th>\n",
       "      <th>age</th>\n",
       "      <th>sex</th>\n",
       "      <th>cp</th>\n",
       "      <th>trestbps</th>\n",
       "      <th>chol</th>\n",
       "      <th>fbs</th>\n",
       "      <th>restecg</th>\n",
       "      <th>thalach</th>\n",
       "      <th>exang</th>\n",
       "      <th>oldpeak</th>\n",
       "      <th>slope</th>\n",
       "      <th>ca</th>\n",
       "      <th>thal</th>\n",
       "      <th>target</th>\n",
       "    </tr>\n",
       "  </thead>\n",
       "  <tbody>\n",
       "    <tr>\n",
       "      <th>0</th>\n",
       "      <td>63</td>\n",
       "      <td>1</td>\n",
       "      <td>3</td>\n",
       "      <td>145</td>\n",
       "      <td>233</td>\n",
       "      <td>1</td>\n",
       "      <td>0</td>\n",
       "      <td>150</td>\n",
       "      <td>0</td>\n",
       "      <td>2.3</td>\n",
       "      <td>0</td>\n",
       "      <td>0</td>\n",
       "      <td>1</td>\n",
       "      <td>1</td>\n",
       "    </tr>\n",
       "    <tr>\n",
       "      <th>1</th>\n",
       "      <td>37</td>\n",
       "      <td>1</td>\n",
       "      <td>2</td>\n",
       "      <td>130</td>\n",
       "      <td>250</td>\n",
       "      <td>0</td>\n",
       "      <td>1</td>\n",
       "      <td>187</td>\n",
       "      <td>0</td>\n",
       "      <td>3.5</td>\n",
       "      <td>0</td>\n",
       "      <td>0</td>\n",
       "      <td>2</td>\n",
       "      <td>1</td>\n",
       "    </tr>\n",
       "    <tr>\n",
       "      <th>2</th>\n",
       "      <td>41</td>\n",
       "      <td>0</td>\n",
       "      <td>1</td>\n",
       "      <td>130</td>\n",
       "      <td>204</td>\n",
       "      <td>0</td>\n",
       "      <td>0</td>\n",
       "      <td>172</td>\n",
       "      <td>0</td>\n",
       "      <td>1.4</td>\n",
       "      <td>2</td>\n",
       "      <td>0</td>\n",
       "      <td>2</td>\n",
       "      <td>1</td>\n",
       "    </tr>\n",
       "    <tr>\n",
       "      <th>3</th>\n",
       "      <td>56</td>\n",
       "      <td>1</td>\n",
       "      <td>1</td>\n",
       "      <td>120</td>\n",
       "      <td>236</td>\n",
       "      <td>0</td>\n",
       "      <td>1</td>\n",
       "      <td>178</td>\n",
       "      <td>0</td>\n",
       "      <td>0.8</td>\n",
       "      <td>2</td>\n",
       "      <td>0</td>\n",
       "      <td>2</td>\n",
       "      <td>1</td>\n",
       "    </tr>\n",
       "    <tr>\n",
       "      <th>4</th>\n",
       "      <td>57</td>\n",
       "      <td>0</td>\n",
       "      <td>0</td>\n",
       "      <td>120</td>\n",
       "      <td>354</td>\n",
       "      <td>0</td>\n",
       "      <td>1</td>\n",
       "      <td>163</td>\n",
       "      <td>1</td>\n",
       "      <td>0.6</td>\n",
       "      <td>2</td>\n",
       "      <td>0</td>\n",
       "      <td>2</td>\n",
       "      <td>1</td>\n",
       "    </tr>\n",
       "  </tbody>\n",
       "</table>\n",
       "</div>"
      ],
      "text/plain": [
       "   age  sex  cp  trestbps  chol  fbs  restecg  thalach  exang  oldpeak  slope  \\\n",
       "0   63    1   3       145   233    1        0      150      0      2.3      0   \n",
       "1   37    1   2       130   250    0        1      187      0      3.5      0   \n",
       "2   41    0   1       130   204    0        0      172      0      1.4      2   \n",
       "3   56    1   1       120   236    0        1      178      0      0.8      2   \n",
       "4   57    0   0       120   354    0        1      163      1      0.6      2   \n",
       "\n",
       "   ca  thal  target  \n",
       "0   0     1       1  \n",
       "1   0     2       1  \n",
       "2   0     2       1  \n",
       "3   0     2       1  \n",
       "4   0     2       1  "
      ]
     },
     "execution_count": 333,
     "metadata": {},
     "output_type": "execute_result"
    }
   ],
   "source": [
    "dataset = pd.read_csv('heart.csv')\n",
    "dataset.head()"
   ]
  },
  {
   "cell_type": "code",
   "execution_count": 334,
   "metadata": {},
   "outputs": [
    {
     "data": {
      "text/html": [
       "<div>\n",
       "<style scoped>\n",
       "    .dataframe tbody tr th:only-of-type {\n",
       "        vertical-align: middle;\n",
       "    }\n",
       "\n",
       "    .dataframe tbody tr th {\n",
       "        vertical-align: top;\n",
       "    }\n",
       "\n",
       "    .dataframe thead th {\n",
       "        text-align: right;\n",
       "    }\n",
       "</style>\n",
       "<table border=\"1\" class=\"dataframe\">\n",
       "  <thead>\n",
       "    <tr style=\"text-align: right;\">\n",
       "      <th></th>\n",
       "      <th>age</th>\n",
       "      <th>sex</th>\n",
       "      <th>cp</th>\n",
       "      <th>trestbps</th>\n",
       "      <th>chol</th>\n",
       "      <th>fbs</th>\n",
       "      <th>restecg</th>\n",
       "      <th>thalach</th>\n",
       "      <th>exang</th>\n",
       "      <th>oldpeak</th>\n",
       "      <th>slope</th>\n",
       "      <th>ca</th>\n",
       "      <th>thal</th>\n",
       "      <th>target</th>\n",
       "    </tr>\n",
       "  </thead>\n",
       "  <tbody>\n",
       "    <tr>\n",
       "      <th>298</th>\n",
       "      <td>57</td>\n",
       "      <td>0</td>\n",
       "      <td>0</td>\n",
       "      <td>140</td>\n",
       "      <td>241</td>\n",
       "      <td>0</td>\n",
       "      <td>1</td>\n",
       "      <td>123</td>\n",
       "      <td>1</td>\n",
       "      <td>0.2</td>\n",
       "      <td>1</td>\n",
       "      <td>0</td>\n",
       "      <td>3</td>\n",
       "      <td>0</td>\n",
       "    </tr>\n",
       "    <tr>\n",
       "      <th>299</th>\n",
       "      <td>45</td>\n",
       "      <td>1</td>\n",
       "      <td>3</td>\n",
       "      <td>110</td>\n",
       "      <td>264</td>\n",
       "      <td>0</td>\n",
       "      <td>1</td>\n",
       "      <td>132</td>\n",
       "      <td>0</td>\n",
       "      <td>1.2</td>\n",
       "      <td>1</td>\n",
       "      <td>0</td>\n",
       "      <td>3</td>\n",
       "      <td>0</td>\n",
       "    </tr>\n",
       "    <tr>\n",
       "      <th>300</th>\n",
       "      <td>68</td>\n",
       "      <td>1</td>\n",
       "      <td>0</td>\n",
       "      <td>144</td>\n",
       "      <td>193</td>\n",
       "      <td>1</td>\n",
       "      <td>1</td>\n",
       "      <td>141</td>\n",
       "      <td>0</td>\n",
       "      <td>3.4</td>\n",
       "      <td>1</td>\n",
       "      <td>2</td>\n",
       "      <td>3</td>\n",
       "      <td>0</td>\n",
       "    </tr>\n",
       "    <tr>\n",
       "      <th>301</th>\n",
       "      <td>57</td>\n",
       "      <td>1</td>\n",
       "      <td>0</td>\n",
       "      <td>130</td>\n",
       "      <td>131</td>\n",
       "      <td>0</td>\n",
       "      <td>1</td>\n",
       "      <td>115</td>\n",
       "      <td>1</td>\n",
       "      <td>1.2</td>\n",
       "      <td>1</td>\n",
       "      <td>1</td>\n",
       "      <td>3</td>\n",
       "      <td>0</td>\n",
       "    </tr>\n",
       "    <tr>\n",
       "      <th>302</th>\n",
       "      <td>57</td>\n",
       "      <td>0</td>\n",
       "      <td>1</td>\n",
       "      <td>130</td>\n",
       "      <td>236</td>\n",
       "      <td>0</td>\n",
       "      <td>0</td>\n",
       "      <td>174</td>\n",
       "      <td>0</td>\n",
       "      <td>0.0</td>\n",
       "      <td>1</td>\n",
       "      <td>1</td>\n",
       "      <td>2</td>\n",
       "      <td>0</td>\n",
       "    </tr>\n",
       "  </tbody>\n",
       "</table>\n",
       "</div>"
      ],
      "text/plain": [
       "     age  sex  cp  trestbps  chol  fbs  restecg  thalach  exang  oldpeak  \\\n",
       "298   57    0   0       140   241    0        1      123      1      0.2   \n",
       "299   45    1   3       110   264    0        1      132      0      1.2   \n",
       "300   68    1   0       144   193    1        1      141      0      3.4   \n",
       "301   57    1   0       130   131    0        1      115      1      1.2   \n",
       "302   57    0   1       130   236    0        0      174      0      0.0   \n",
       "\n",
       "     slope  ca  thal  target  \n",
       "298      1   0     3       0  \n",
       "299      1   0     3       0  \n",
       "300      1   2     3       0  \n",
       "301      1   1     3       0  \n",
       "302      1   1     2       0  "
      ]
     },
     "execution_count": 334,
     "metadata": {},
     "output_type": "execute_result"
    }
   ],
   "source": [
    "dataset.tail()"
   ]
  },
  {
   "cell_type": "markdown",
   "metadata": {},
   "source": [
    "## $\\triangleright$ Correlation of the features"
   ]
  },
  {
   "cell_type": "code",
   "execution_count": 335,
   "metadata": {},
   "outputs": [
    {
     "name": "stdout",
     "output_type": "stream",
     "text": [
      "10 features with a correlation magnitude greater than 0.10.\n",
      "\n",
      "4 features with a correlation magnitude greater than 0.30.\n",
      "\n"
     ]
    },
    {
     "data": {
      "image/png": "[encoded data removed]",
      "text/plain": [
       "<Figure size 720x576 with 2 Axes>"
      ]
     },
     "metadata": {
      "needs_background": "light"
     },
     "output_type": "display_data"
    },
    {
     "data": {
      "image/png": "[encoded data removed]",
      "text/plain": [
       "<Figure size 720x576 with 2 Axes>"
      ]
     },
     "metadata": {
      "needs_background": "light"
     },
     "output_type": "display_data"
    }
   ],
   "source": [
    "#Separate the data to features,target\n",
    "columns=['age','sex','cp','trestbps','chol','fbs','restecg','thalach','exang','oldpeak','slope','ca','thal']\n",
    "features = pd.read_csv('heart.csv',usecols=columns)\n",
    "\n",
    "target = pd.read_csv('heart.csv',usecols=[\"target\"])\n",
    "\n",
    "#Plot the cor\n",
    "fs = FeatureSelector(data = features, labels = target)\n",
    "fs.identify_collinear(correlation_threshold=0.10)\n",
    "fs.plot_collinear(plot_all=True)\n",
    "\n",
    "fs = FeatureSelector(data = features, labels = target)\n",
    "fs.identify_collinear(correlation_threshold=0.30)\n",
    "fs.plot_collinear(plot_all=True)"
   ]
  },
  {
   "cell_type": "markdown",
   "metadata": {},
   "source": [
    "## $\\triangleright$ Normalization:"
   ]
  },
  {
   "cell_type": "code",
   "execution_count": 336,
   "metadata": {},
   "outputs": [
    {
     "name": "stdout",
     "output_type": "stream",
     "text": [
      "[[0.70833333 1.         1.         ... 0.         0.         0.33333333]\n",
      " [0.16666667 1.         0.66666667 ... 0.         0.         0.66666667]\n",
      " [0.25       0.         0.33333333 ... 1.         0.         0.66666667]\n",
      " ...\n",
      " [0.8125     1.         0.         ... 0.5        0.5        1.        ]\n",
      " [0.58333333 1.         0.         ... 0.5        0.25       1.        ]\n",
      " [0.58333333 0.         0.33333333 ... 0.5        0.25       0.66666667]]\n"
     ]
    }
   ],
   "source": [
    "#Turn to array\n",
    "features = np.array(features)\n",
    "target = np.array(target)\n",
    "\n",
    "#Normalization\n",
    "scaler = MinMaxScaler(feature_range=(0, 1))\n",
    "features = scaler.fit_transform(features)\n",
    "print(features)"
   ]
  },
  {
   "cell_type": "markdown",
   "metadata": {},
   "source": [
    "## $\\triangleright$ Train-Test split"
   ]
  },
  {
   "cell_type": "code",
   "execution_count": 337,
   "metadata": {},
   "outputs": [],
   "source": [
    "#Split the data in order to train and test the model\n",
    "trainX,testX,trainY,testY = train_test_split(features,target,test_size=0.3)\n",
    "\n",
    "#Turn to array\n",
    "trainX = np.array(trainX)\n",
    "testX = np.array(testX)\n",
    "trainY = np.array(trainY)\n",
    "testY = np.array(testY)"
   ]
  },
  {
   "cell_type": "markdown",
   "metadata": {},
   "source": [
    "## $\\triangleright$ Decision Tree Classifier"
   ]
  },
  {
   "cell_type": "code",
   "execution_count": 338,
   "metadata": {},
   "outputs": [
    {
     "name": "stdout",
     "output_type": "stream",
     "text": [
      "Accuracy:  0.7692307692307693\n",
      "Confusion Matrix: \n",
      "[[30  9]\n",
      " [12 40]]\n"
     ]
    }
   ],
   "source": [
    "#Initialize and train the classifier\n",
    "clf = DecisionTreeClassifier()\n",
    "clf = clf.fit(trainX, trainY)\n",
    "\n",
    "#Test the classifier in order to get some metrics\n",
    "yPred = clf.predict(testX)\n",
    "accuracy = accuracy_score(testY,yPred)\n",
    "print(\"Accuracy: \",accuracy)\n",
    "print(\"Confusion Matrix: \")\n",
    "print(confusion_matrix(testY,yPred))"
   ]
  },
  {
   "cell_type": "markdown",
   "metadata": {},
   "source": [
    "## $\\triangleright$ Random Forest Classifier"
   ]
  },
  {
   "cell_type": "code",
   "execution_count": 339,
   "metadata": {},
   "outputs": [
    {
     "name": "stdout",
     "output_type": "stream",
     "text": [
      "Accuracy:  0.8901098901098901\n",
      "Confusion Matrix: \n",
      "[[33  6]\n",
      " [ 4 48]]\n"
     ]
    }
   ],
   "source": [
    "#Initialize and train the classifier\n",
    "clf = RandomForestClassifier(n_estimators=len(features), max_depth=None)\n",
    "clf.fit(trainX,trainY.flatten())\n",
    "\n",
    "#Test the classifier in order to get some metrics\n",
    "yPred = clf.predict(testX)\n",
    "accuracy = accuracy_score(testY,yPred)\n",
    "print(\"Accuracy: \",accuracy)\n",
    "print(\"Confusion Matrix: \")\n",
    "print(confusion_matrix(testY,yPred))"
   ]
  },
  {
   "cell_type": "markdown",
   "metadata": {},
   "source": [
    "## $\\triangleright$ KNeighbors Classifier"
   ]
  },
  {
   "cell_type": "code",
   "execution_count": 340,
   "metadata": {},
   "outputs": [
    {
     "name": "stdout",
     "output_type": "stream",
     "text": [
      "Accuracy:  0.8351648351648352\n",
      "Confusion Matrix: \n",
      "[[28 11]\n",
      " [ 4 48]]\n"
     ]
    }
   ],
   "source": [
    "neigh = KNeighborsClassifier(algorithm='brute',n_neighbors=(len(trainX)//2))\n",
    "neigh.fit(trainX,trainY.flatten())\n",
    "\n",
    "#Test the classifier in order to get some metrics\n",
    "yPred = neigh.predict(testX)\n",
    "accuracy = accuracy_score(testY,yPred)\n",
    "print(\"Accuracy: \",accuracy)\n",
    "print(\"Confusion Matrix: \")\n",
    "print(confusion_matrix(testY,yPred))"
   ]
  },
  {
   "cell_type": "markdown",
   "metadata": {},
   "source": [
    "## $\\triangleright$ Turn data to dictionary"
   ]
  },
  {
   "cell_type": "code",
   "execution_count": 341,
   "metadata": {},
   "outputs": [],
   "source": [
    "#Transofrm the data to dictionary format in order to use as a tensor\n",
    "trainX={'age':trainX[:,0],'sex':trainX[:,1],'cp':trainX[:,2],'trestbps':trainX[:,3],'chol':trainX[:,4],'fbs':trainX[:,5],'restecg':trainX[:,6],'thalach':trainX[:,7],'exang':trainX[:,8],'oldpeak':trainX[:,9],'slope':trainX[:,10],'ca':trainX[:,11],'thal':trainX[:,12]}\n",
    "testX={'age':testX[:,0],'sex':testX[:,1],'cp':testX[:,2],'trestbps':testX[:,3],'chol':testX[:,4],'fbs':testX[:,5],'restecg':testX[:,6],'thalach':testX[:,7],'exang':testX[:,8],'oldpeak':testX[:,9],'slope':testX[:,10],'ca':testX[:,11],'thal':testX[:,12]}"
   ]
  },
  {
   "cell_type": "markdown",
   "metadata": {},
   "source": [
    "## $\\triangleright$ Create the feature columns to be accessed in the model"
   ]
  },
  {
   "cell_type": "code",
   "execution_count": 342,
   "metadata": {},
   "outputs": [],
   "source": [
    "#Create the feature columns\n",
    "feature_columns = [tf.feature_column.numeric_column(k) for k in columns]"
   ]
  },
  {
   "cell_type": "markdown",
   "metadata": {},
   "source": [
    "## $\\triangleright$ Preparing the inputs for train,test"
   ]
  },
  {
   "cell_type": "code",
   "execution_count": 343,
   "metadata": {},
   "outputs": [],
   "source": [
    "train_input_fn = tf.estimator.inputs.numpy_input_fn(\n",
    " x=trainX,\n",
    " y=trainY,\n",
    " num_epochs=None,\n",
    " batch_size=1,\n",
    " shuffle=True\n",
    ")\n",
    "\n",
    "evaluateInputFunction = tf.estimator.inputs.numpy_input_fn(\n",
    "    x=testX,\n",
    "    y=testY,\n",
    "    num_epochs=1,\n",
    "    shuffle=False\n",
    ")"
   ]
  },
  {
   "cell_type": "markdown",
   "metadata": {},
   "source": [
    "## $\\triangleright$ Linear Classifier"
   ]
  },
  {
   "cell_type": "code",
   "execution_count": 344,
   "metadata": {
    "scrolled": true
   },
   "outputs": [
    {
     "name": "stdout",
     "output_type": "stream",
     "text": [
      "INFO:tensorflow:Using default config.\n",
      "WARNING:tensorflow:Using temporary folder as model directory: /tmp/tmpiqwvst0l\n",
      "INFO:tensorflow:Using config: {'_model_dir': '/tmp/tmpiqwvst0l', '_tf_random_seed': None, '_save_summary_steps': 100, '_save_checkpoints_steps': None, '_save_checkpoints_secs': 600, '_session_config': None, '_keep_checkpoint_max': 5, '_keep_checkpoint_every_n_hours': 10000, '_log_step_count_steps': 100, '_service': None, '_cluster_spec': <tensorflow.python.training.server_lib.ClusterSpec object at 0x7f3c45527470>, '_task_type': 'worker', '_task_id': 0, '_master': '', '_is_chief': True, '_num_ps_replicas': 0, '_num_worker_replicas': 1}\n",
      "INFO:tensorflow:Create CheckpointSaverHook.\n",
      "INFO:tensorflow:Saving checkpoints for 1 into /tmp/tmpiqwvst0l/model.ckpt.\n",
      "INFO:tensorflow:loss = 2.5649493, step = 1\n",
      "INFO:tensorflow:global_step/sec: 648.316\n",
      "INFO:tensorflow:loss = 0.41592935, step = 101 (0.157 sec)\n",
      "INFO:tensorflow:global_step/sec: 673.626\n",
      "INFO:tensorflow:loss = 0.94947463, step = 201 (0.150 sec)\n",
      "INFO:tensorflow:global_step/sec: 734.19\n",
      "INFO:tensorflow:loss = 0.08541526, step = 301 (0.135 sec)\n",
      "INFO:tensorflow:global_step/sec: 867.018\n",
      "INFO:tensorflow:loss = 0.950536, step = 401 (0.115 sec)\n",
      "INFO:tensorflow:global_step/sec: 814.109\n",
      "INFO:tensorflow:loss = 0.68883115, step = 501 (0.124 sec)\n",
      "INFO:tensorflow:global_step/sec: 879.46\n",
      "INFO:tensorflow:loss = 0.49808982, step = 601 (0.113 sec)\n",
      "INFO:tensorflow:global_step/sec: 747.73\n",
      "INFO:tensorflow:loss = 1.3438197, step = 701 (0.133 sec)\n",
      "INFO:tensorflow:global_step/sec: 958.151\n",
      "INFO:tensorflow:loss = 0.29946914, step = 801 (0.105 sec)\n",
      "INFO:tensorflow:global_step/sec: 946.093\n",
      "INFO:tensorflow:loss = 0.1413803, step = 901 (0.107 sec)\n",
      "INFO:tensorflow:global_step/sec: 984.273\n",
      "INFO:tensorflow:loss = 0.035001982, step = 1001 (0.102 sec)\n",
      "INFO:tensorflow:global_step/sec: 999.941\n",
      "INFO:tensorflow:loss = 0.2134116, step = 1101 (0.099 sec)\n",
      "INFO:tensorflow:global_step/sec: 902.606\n",
      "INFO:tensorflow:loss = 0.08295114, step = 1201 (0.111 sec)\n",
      "INFO:tensorflow:global_step/sec: 951.223\n",
      "INFO:tensorflow:loss = 0.5214346, step = 1301 (0.104 sec)\n",
      "INFO:tensorflow:global_step/sec: 1080.44\n",
      "INFO:tensorflow:loss = 0.123015165, step = 1401 (0.092 sec)\n",
      "INFO:tensorflow:global_step/sec: 886.829\n",
      "INFO:tensorflow:loss = 0.37900868, step = 1501 (0.112 sec)\n",
      "INFO:tensorflow:global_step/sec: 872.791\n",
      "INFO:tensorflow:loss = 0.05974169, step = 1601 (0.115 sec)\n",
      "INFO:tensorflow:global_step/sec: 992.488\n",
      "INFO:tensorflow:loss = 0.051135108, step = 1701 (0.102 sec)\n",
      "INFO:tensorflow:global_step/sec: 915.118\n",
      "INFO:tensorflow:loss = 0.033112988, step = 1801 (0.107 sec)\n",
      "INFO:tensorflow:global_step/sec: 908.824\n",
      "INFO:tensorflow:loss = 0.061012972, step = 1901 (0.111 sec)\n",
      "INFO:tensorflow:global_step/sec: 894.134\n",
      "INFO:tensorflow:loss = 2.036787, step = 2001 (0.111 sec)\n",
      "INFO:tensorflow:global_step/sec: 932.654\n",
      "INFO:tensorflow:loss = 0.56458855, step = 2101 (0.108 sec)\n",
      "INFO:tensorflow:global_step/sec: 1030.43\n",
      "INFO:tensorflow:loss = 0.7129983, step = 2201 (0.098 sec)\n",
      "INFO:tensorflow:global_step/sec: 904.774\n",
      "INFO:tensorflow:loss = 0.073861256, step = 2301 (0.111 sec)\n",
      "INFO:tensorflow:global_step/sec: 971.446\n",
      "INFO:tensorflow:loss = 0.037207223, step = 2401 (0.102 sec)\n",
      "INFO:tensorflow:global_step/sec: 988.852\n",
      "INFO:tensorflow:loss = 0.15699373, step = 2501 (0.100 sec)\n",
      "INFO:tensorflow:global_step/sec: 970.675\n",
      "INFO:tensorflow:loss = 0.2005114, step = 2601 (0.103 sec)\n",
      "INFO:tensorflow:global_step/sec: 1000.24\n",
      "INFO:tensorflow:loss = 0.055210173, step = 2701 (0.098 sec)\n",
      "INFO:tensorflow:global_step/sec: 1032.32\n",
      "INFO:tensorflow:loss = 0.15568237, step = 2801 (0.099 sec)\n",
      "INFO:tensorflow:global_step/sec: 902.259\n",
      "INFO:tensorflow:loss = 0.4849392, step = 2901 (0.111 sec)\n",
      "INFO:tensorflow:global_step/sec: 982.319\n",
      "INFO:tensorflow:loss = 1.0047117, step = 3001 (0.100 sec)\n",
      "INFO:tensorflow:global_step/sec: 1021.86\n",
      "INFO:tensorflow:loss = 0.16599546, step = 3101 (0.099 sec)\n",
      "INFO:tensorflow:global_step/sec: 836.458\n",
      "INFO:tensorflow:loss = 0.048860278, step = 3201 (0.117 sec)\n",
      "INFO:tensorflow:global_step/sec: 883.151\n",
      "INFO:tensorflow:loss = 0.7481311, step = 3301 (0.115 sec)\n",
      "INFO:tensorflow:global_step/sec: 962.12\n",
      "INFO:tensorflow:loss = 0.2583652, step = 3401 (0.103 sec)\n",
      "INFO:tensorflow:global_step/sec: 972.272\n",
      "INFO:tensorflow:loss = 0.45291334, step = 3501 (0.106 sec)\n",
      "INFO:tensorflow:global_step/sec: 956.335\n",
      "INFO:tensorflow:loss = 0.066047855, step = 3601 (0.104 sec)\n",
      "INFO:tensorflow:global_step/sec: 968.784\n",
      "INFO:tensorflow:loss = 0.123816185, step = 3701 (0.102 sec)\n",
      "INFO:tensorflow:global_step/sec: 1001.95\n",
      "INFO:tensorflow:loss = 0.072597235, step = 3801 (0.101 sec)\n",
      "INFO:tensorflow:global_step/sec: 900.496\n",
      "INFO:tensorflow:loss = 0.08655388, step = 3901 (0.111 sec)\n",
      "INFO:tensorflow:global_step/sec: 887.163\n",
      "INFO:tensorflow:loss = 0.08939012, step = 4001 (0.113 sec)\n",
      "INFO:tensorflow:global_step/sec: 960.155\n",
      "INFO:tensorflow:loss = 0.018937968, step = 4101 (0.103 sec)\n",
      "INFO:tensorflow:global_step/sec: 938.674\n",
      "INFO:tensorflow:loss = 3.6700284, step = 4201 (0.107 sec)\n",
      "INFO:tensorflow:global_step/sec: 991.871\n",
      "INFO:tensorflow:loss = 0.059313413, step = 4301 (0.099 sec)\n",
      "INFO:tensorflow:global_step/sec: 920.056\n",
      "INFO:tensorflow:loss = 0.79725057, step = 4401 (0.107 sec)\n",
      "INFO:tensorflow:global_step/sec: 860.746\n",
      "INFO:tensorflow:loss = 0.10048845, step = 4501 (0.116 sec)\n",
      "INFO:tensorflow:global_step/sec: 868.282\n",
      "INFO:tensorflow:loss = 0.1301678, step = 4601 (0.115 sec)\n",
      "INFO:tensorflow:global_step/sec: 835.758\n",
      "INFO:tensorflow:loss = 0.2068434, step = 4701 (0.120 sec)\n",
      "INFO:tensorflow:global_step/sec: 811.615\n",
      "INFO:tensorflow:loss = 0.010903659, step = 4801 (0.123 sec)\n",
      "INFO:tensorflow:global_step/sec: 922.608\n",
      "INFO:tensorflow:loss = 0.26165017, step = 4901 (0.109 sec)\n",
      "INFO:tensorflow:global_step/sec: 836.172\n",
      "INFO:tensorflow:loss = 0.022302642, step = 5001 (0.120 sec)\n",
      "INFO:tensorflow:global_step/sec: 833.904\n",
      "INFO:tensorflow:loss = 0.04398, step = 5101 (0.120 sec)\n",
      "INFO:tensorflow:global_step/sec: 842.074\n",
      "INFO:tensorflow:loss = 0.06793418, step = 5201 (0.119 sec)\n",
      "INFO:tensorflow:global_step/sec: 852.754\n",
      "INFO:tensorflow:loss = 0.11903972, step = 5301 (0.117 sec)\n",
      "INFO:tensorflow:global_step/sec: 964.25\n",
      "INFO:tensorflow:loss = 0.6607584, step = 5401 (0.103 sec)\n",
      "INFO:tensorflow:global_step/sec: 891.787\n",
      "INFO:tensorflow:loss = 0.28002527, step = 5501 (0.113 sec)\n",
      "INFO:tensorflow:global_step/sec: 805.111\n",
      "INFO:tensorflow:loss = 0.020046959, step = 5601 (0.124 sec)\n",
      "INFO:tensorflow:global_step/sec: 856.465\n",
      "INFO:tensorflow:loss = 0.006669049, step = 5701 (0.117 sec)\n",
      "INFO:tensorflow:global_step/sec: 927.193\n",
      "INFO:tensorflow:loss = 2.050634, step = 5801 (0.111 sec)\n",
      "INFO:tensorflow:global_step/sec: 849.476\n",
      "INFO:tensorflow:loss = 0.001602557, step = 5901 (0.115 sec)\n",
      "INFO:tensorflow:global_step/sec: 854.763\n",
      "INFO:tensorflow:loss = 0.01982832, step = 6001 (0.117 sec)\n",
      "INFO:tensorflow:global_step/sec: 912.855\n",
      "INFO:tensorflow:loss = 0.67977375, step = 6101 (0.110 sec)\n",
      "INFO:tensorflow:global_step/sec: 868.111\n",
      "INFO:tensorflow:loss = 0.21621951, step = 6201 (0.115 sec)\n",
      "INFO:tensorflow:global_step/sec: 1053.4\n",
      "INFO:tensorflow:loss = 0.06413136, step = 6301 (0.099 sec)\n",
      "INFO:tensorflow:global_step/sec: 996.44\n",
      "INFO:tensorflow:loss = 0.387915, step = 6401 (0.099 sec)\n",
      "INFO:tensorflow:global_step/sec: 935.473\n",
      "INFO:tensorflow:loss = 0.029007945, step = 6501 (0.107 sec)\n",
      "INFO:tensorflow:global_step/sec: 1038.2\n",
      "INFO:tensorflow:loss = 0.017773995, step = 6601 (0.095 sec)\n",
      "INFO:tensorflow:global_step/sec: 782.032\n",
      "INFO:tensorflow:loss = 0.8191147, step = 6701 (0.126 sec)\n",
      "INFO:tensorflow:global_step/sec: 944.793\n",
      "INFO:tensorflow:loss = 0.77568656, step = 6801 (0.106 sec)\n",
      "INFO:tensorflow:global_step/sec: 811.758\n",
      "INFO:tensorflow:loss = 0.07505235, step = 6901 (0.125 sec)\n",
      "INFO:tensorflow:global_step/sec: 971.236\n",
      "INFO:tensorflow:loss = 0.20579043, step = 7001 (0.103 sec)\n",
      "INFO:tensorflow:global_step/sec: 873.071\n",
      "INFO:tensorflow:loss = 0.005341899, step = 7101 (0.112 sec)\n",
      "INFO:tensorflow:global_step/sec: 783.793\n",
      "INFO:tensorflow:loss = 0.7485083, step = 7201 (0.127 sec)\n",
      "INFO:tensorflow:global_step/sec: 902.139\n",
      "INFO:tensorflow:loss = 0.2356968, step = 7301 (0.111 sec)\n",
      "INFO:tensorflow:global_step/sec: 879.54\n",
      "INFO:tensorflow:loss = 0.03630635, step = 7401 (0.114 sec)\n"
     ]
    },
    {
     "name": "stdout",
     "output_type": "stream",
     "text": [
      "INFO:tensorflow:global_step/sec: 918.402\n",
      "INFO:tensorflow:loss = 0.43947494, step = 7501 (0.109 sec)\n",
      "INFO:tensorflow:global_step/sec: 842.02\n",
      "INFO:tensorflow:loss = 0.06695021, step = 7601 (0.119 sec)\n",
      "INFO:tensorflow:global_step/sec: 961.35\n",
      "INFO:tensorflow:loss = 1.098301, step = 7701 (0.106 sec)\n",
      "INFO:tensorflow:global_step/sec: 893.805\n",
      "INFO:tensorflow:loss = 0.49713355, step = 7801 (0.111 sec)\n",
      "INFO:tensorflow:global_step/sec: 1009.22\n",
      "INFO:tensorflow:loss = 0.12686336, step = 7901 (0.098 sec)\n",
      "INFO:tensorflow:global_step/sec: 901.706\n",
      "INFO:tensorflow:loss = 0.3819419, step = 8001 (0.110 sec)\n",
      "INFO:tensorflow:global_step/sec: 854.263\n",
      "INFO:tensorflow:loss = 0.01636922, step = 8101 (0.118 sec)\n",
      "INFO:tensorflow:global_step/sec: 1065.18\n",
      "INFO:tensorflow:loss = 0.18761407, step = 8201 (0.100 sec)\n",
      "INFO:tensorflow:global_step/sec: 881.964\n",
      "INFO:tensorflow:loss = 0.49662223, step = 8301 (0.107 sec)\n",
      "INFO:tensorflow:global_step/sec: 787.091\n",
      "INFO:tensorflow:loss = 0.15111049, step = 8401 (0.127 sec)\n",
      "INFO:tensorflow:global_step/sec: 798.322\n",
      "INFO:tensorflow:loss = 0.10418227, step = 8501 (0.126 sec)\n",
      "INFO:tensorflow:global_step/sec: 889.613\n",
      "INFO:tensorflow:loss = 0.1002316, step = 8601 (0.112 sec)\n",
      "INFO:tensorflow:global_step/sec: 694.463\n",
      "INFO:tensorflow:loss = 0.6154952, step = 8701 (0.144 sec)\n",
      "INFO:tensorflow:global_step/sec: 776.566\n",
      "INFO:tensorflow:loss = 0.18123531, step = 8801 (0.129 sec)\n",
      "INFO:tensorflow:global_step/sec: 1039.07\n",
      "INFO:tensorflow:loss = 0.0578728, step = 8901 (0.096 sec)\n",
      "INFO:tensorflow:global_step/sec: 911.179\n",
      "INFO:tensorflow:loss = 0.5407911, step = 9001 (0.110 sec)\n",
      "INFO:tensorflow:global_step/sec: 860.584\n",
      "INFO:tensorflow:loss = 0.20472905, step = 9101 (0.116 sec)\n",
      "INFO:tensorflow:global_step/sec: 791.989\n",
      "INFO:tensorflow:loss = 0.83838993, step = 9201 (0.126 sec)\n",
      "INFO:tensorflow:global_step/sec: 810.165\n",
      "INFO:tensorflow:loss = 0.3578231, step = 9301 (0.124 sec)\n",
      "INFO:tensorflow:global_step/sec: 856.561\n",
      "INFO:tensorflow:loss = 0.007506498, step = 9401 (0.116 sec)\n",
      "INFO:tensorflow:global_step/sec: 1090.19\n",
      "INFO:tensorflow:loss = 0.0017035985, step = 9501 (0.092 sec)\n",
      "INFO:tensorflow:global_step/sec: 890.972\n",
      "INFO:tensorflow:loss = 0.4899099, step = 9601 (0.112 sec)\n",
      "INFO:tensorflow:global_step/sec: 380.004\n",
      "INFO:tensorflow:loss = 0.08835186, step = 9701 (0.263 sec)\n",
      "INFO:tensorflow:global_step/sec: 762.871\n",
      "INFO:tensorflow:loss = 0.7926018, step = 9801 (0.131 sec)\n",
      "INFO:tensorflow:global_step/sec: 881.204\n",
      "INFO:tensorflow:loss = 0.10893855, step = 9901 (0.113 sec)\n",
      "INFO:tensorflow:Saving checkpoints for 10000 into /tmp/tmpiqwvst0l/model.ckpt.\n",
      "INFO:tensorflow:Loss for final step: 0.006929769.\n"
     ]
    },
    {
     "data": {
      "text/plain": [
       "<tensorflow.python.estimator.canned.linear.LinearClassifier at 0x7f3c45527278>"
      ]
     },
     "execution_count": 344,
     "metadata": {},
     "output_type": "execute_result"
    }
   ],
   "source": [
    "#Create the model\n",
    "linearClassifier =tf.estimator.LinearClassifier(feature_columns=feature_columns,n_classes=len(columns))\n",
    "\n",
    "#Train the model\n",
    "linearClassifier.train(input_fn=train_input_fn,steps=10000)"
   ]
  },
  {
   "cell_type": "markdown",
   "metadata": {},
   "source": [
    "## $\\triangleright$ Evaluate Linear Classifier"
   ]
  },
  {
   "cell_type": "code",
   "execution_count": 345,
   "metadata": {},
   "outputs": [
    {
     "name": "stdout",
     "output_type": "stream",
     "text": [
      "INFO:tensorflow:Starting evaluation at 2019-04-03-16:57:23\n",
      "INFO:tensorflow:Restoring parameters from /tmp/tmpiqwvst0l/model.ckpt-10000\n",
      "INFO:tensorflow:Finished evaluation at 2019-04-03-16:57:23\n",
      "INFO:tensorflow:Saving dict for global step 10000: accuracy = 0.8131868, average_loss = 0.40675718, global_step = 10000, loss = 37.014904\n"
     ]
    },
    {
     "data": {
      "text/plain": [
       "{'accuracy': 0.8131868,\n",
       " 'average_loss': 0.40675718,\n",
       " 'loss': 37.014904,\n",
       " 'global_step': 10000}"
      ]
     },
     "execution_count": 345,
     "metadata": {},
     "output_type": "execute_result"
    }
   ],
   "source": [
    "linearClassifier.evaluate(evaluateInputFunction)"
   ]
  },
  {
   "cell_type": "markdown",
   "metadata": {},
   "source": [
    "## $\\triangleright$ Deep Neural Network Classifier"
   ]
  },
  {
   "cell_type": "code",
   "execution_count": 346,
   "metadata": {
    "scrolled": true
   },
   "outputs": [
    {
     "name": "stdout",
     "output_type": "stream",
     "text": [
      "INFO:tensorflow:Using default config.\n",
      "WARNING:tensorflow:Using temporary folder as model directory: /tmp/tmphnn2md6u\n",
      "INFO:tensorflow:Using config: {'_model_dir': '/tmp/tmphnn2md6u', '_tf_random_seed': None, '_save_summary_steps': 100, '_save_checkpoints_steps': None, '_save_checkpoints_secs': 600, '_session_config': None, '_keep_checkpoint_max': 5, '_keep_checkpoint_every_n_hours': 10000, '_log_step_count_steps': 100, '_service': None, '_cluster_spec': <tensorflow.python.training.server_lib.ClusterSpec object at 0x7f3c44273080>, '_task_type': 'worker', '_task_id': 0, '_master': '', '_is_chief': True, '_num_ps_replicas': 0, '_num_worker_replicas': 1}\n",
      "INFO:tensorflow:Create CheckpointSaverHook.\n",
      "INFO:tensorflow:Saving checkpoints for 1 into /tmp/tmphnn2md6u/model.ckpt.\n",
      "INFO:tensorflow:loss = 2.6742544, step = 1\n",
      "INFO:tensorflow:global_step/sec: 675.084\n",
      "INFO:tensorflow:loss = 2.0606663, step = 101 (0.153 sec)\n",
      "INFO:tensorflow:global_step/sec: 889.832\n",
      "INFO:tensorflow:loss = 1.5453488, step = 201 (0.110 sec)\n",
      "INFO:tensorflow:global_step/sec: 869.338\n",
      "INFO:tensorflow:loss = 1.4587648, step = 301 (0.116 sec)\n",
      "INFO:tensorflow:global_step/sec: 863.493\n",
      "INFO:tensorflow:loss = 0.7978607, step = 401 (0.114 sec)\n",
      "INFO:tensorflow:global_step/sec: 841.517\n",
      "INFO:tensorflow:loss = 1.0050964, step = 501 (0.121 sec)\n",
      "INFO:tensorflow:global_step/sec: 913.215\n",
      "INFO:tensorflow:loss = 0.72525954, step = 601 (0.108 sec)\n",
      "INFO:tensorflow:global_step/sec: 933.258\n",
      "INFO:tensorflow:loss = 0.7592197, step = 701 (0.108 sec)\n",
      "INFO:tensorflow:global_step/sec: 964.15\n",
      "INFO:tensorflow:loss = 0.47485968, step = 801 (0.103 sec)\n",
      "INFO:tensorflow:global_step/sec: 979.323\n",
      "INFO:tensorflow:loss = 0.80563956, step = 901 (0.104 sec)\n",
      "INFO:tensorflow:global_step/sec: 930.762\n",
      "INFO:tensorflow:loss = 0.53340304, step = 1001 (0.105 sec)\n",
      "INFO:tensorflow:global_step/sec: 918.323\n",
      "INFO:tensorflow:loss = 0.21380837, step = 1101 (0.111 sec)\n",
      "INFO:tensorflow:global_step/sec: 809.121\n",
      "INFO:tensorflow:loss = 0.47981596, step = 1201 (0.122 sec)\n",
      "INFO:tensorflow:global_step/sec: 948.74\n",
      "INFO:tensorflow:loss = 0.8349107, step = 1301 (0.108 sec)\n",
      "INFO:tensorflow:global_step/sec: 889.54\n",
      "INFO:tensorflow:loss = 1.0314735, step = 1401 (0.113 sec)\n",
      "INFO:tensorflow:global_step/sec: 789.916\n",
      "INFO:tensorflow:loss = 0.23787896, step = 1501 (0.123 sec)\n",
      "INFO:tensorflow:global_step/sec: 995.841\n",
      "INFO:tensorflow:loss = 0.39689478, step = 1601 (0.103 sec)\n",
      "INFO:tensorflow:global_step/sec: 875.797\n",
      "INFO:tensorflow:loss = 0.24889794, step = 1701 (0.113 sec)\n",
      "INFO:tensorflow:global_step/sec: 928.023\n",
      "INFO:tensorflow:loss = 0.16668025, step = 1801 (0.106 sec)\n",
      "INFO:tensorflow:global_step/sec: 929.169\n",
      "INFO:tensorflow:loss = 0.060024075, step = 1901 (0.108 sec)\n",
      "INFO:tensorflow:global_step/sec: 908.007\n",
      "INFO:tensorflow:loss = 0.20012063, step = 2001 (0.112 sec)\n",
      "INFO:tensorflow:global_step/sec: 845.846\n",
      "INFO:tensorflow:loss = 0.070972346, step = 2101 (0.119 sec)\n",
      "INFO:tensorflow:global_step/sec: 902.121\n",
      "INFO:tensorflow:loss = 0.89102554, step = 2201 (0.110 sec)\n",
      "INFO:tensorflow:global_step/sec: 900.485\n",
      "INFO:tensorflow:loss = 1.7574234, step = 2301 (0.113 sec)\n",
      "INFO:tensorflow:global_step/sec: 783.044\n",
      "INFO:tensorflow:loss = 0.071918644, step = 2401 (0.124 sec)\n",
      "INFO:tensorflow:global_step/sec: 766.107\n",
      "INFO:tensorflow:loss = 0.074828714, step = 2501 (0.131 sec)\n",
      "INFO:tensorflow:global_step/sec: 1020.08\n",
      "INFO:tensorflow:loss = 0.16075218, step = 2601 (0.100 sec)\n",
      "INFO:tensorflow:global_step/sec: 1016.49\n",
      "INFO:tensorflow:loss = 0.41316128, step = 2701 (0.098 sec)\n",
      "INFO:tensorflow:global_step/sec: 791.29\n",
      "INFO:tensorflow:loss = 0.42190644, step = 2801 (0.127 sec)\n",
      "INFO:tensorflow:global_step/sec: 884.697\n",
      "INFO:tensorflow:loss = 0.15385602, step = 2901 (0.112 sec)\n",
      "INFO:tensorflow:global_step/sec: 720.932\n",
      "INFO:tensorflow:loss = 0.1163619, step = 3001 (0.140 sec)\n",
      "INFO:tensorflow:global_step/sec: 667.941\n",
      "INFO:tensorflow:loss = 0.04058664, step = 3101 (0.148 sec)\n",
      "INFO:tensorflow:global_step/sec: 884.609\n",
      "INFO:tensorflow:loss = 0.37861076, step = 3201 (0.114 sec)\n",
      "INFO:tensorflow:global_step/sec: 662.371\n",
      "INFO:tensorflow:loss = 0.43323654, step = 3301 (0.150 sec)\n",
      "INFO:tensorflow:global_step/sec: 867.662\n",
      "INFO:tensorflow:loss = 0.19884278, step = 3401 (0.114 sec)\n",
      "INFO:tensorflow:global_step/sec: 707.344\n",
      "INFO:tensorflow:loss = 0.15518631, step = 3501 (0.141 sec)\n",
      "INFO:tensorflow:global_step/sec: 758.602\n",
      "INFO:tensorflow:loss = 0.022380399, step = 3601 (0.132 sec)\n",
      "INFO:tensorflow:global_step/sec: 1028.18\n",
      "INFO:tensorflow:loss = 1.2880454, step = 3701 (0.098 sec)\n",
      "INFO:tensorflow:global_step/sec: 788.539\n",
      "INFO:tensorflow:loss = 0.9308584, step = 3801 (0.126 sec)\n",
      "INFO:tensorflow:global_step/sec: 831.609\n",
      "INFO:tensorflow:loss = 0.2779115, step = 3901 (0.120 sec)\n",
      "INFO:tensorflow:global_step/sec: 849.073\n",
      "INFO:tensorflow:loss = 0.58697337, step = 4001 (0.118 sec)\n",
      "INFO:tensorflow:global_step/sec: 945.434\n",
      "INFO:tensorflow:loss = 0.120009825, step = 4101 (0.105 sec)\n",
      "INFO:tensorflow:global_step/sec: 1128.71\n",
      "INFO:tensorflow:loss = 0.25186592, step = 4201 (0.092 sec)\n",
      "INFO:tensorflow:global_step/sec: 771.454\n",
      "INFO:tensorflow:loss = 0.15674265, step = 4301 (0.129 sec)\n",
      "INFO:tensorflow:global_step/sec: 789.63\n",
      "INFO:tensorflow:loss = 0.16140436, step = 4401 (0.124 sec)\n",
      "INFO:tensorflow:global_step/sec: 826.425\n",
      "INFO:tensorflow:loss = 0.048153225, step = 4501 (0.121 sec)\n",
      "INFO:tensorflow:global_step/sec: 914.551\n",
      "INFO:tensorflow:loss = 0.017951164, step = 4601 (0.109 sec)\n",
      "INFO:tensorflow:global_step/sec: 1059.69\n",
      "INFO:tensorflow:loss = 0.7221056, step = 4701 (0.094 sec)\n",
      "INFO:tensorflow:global_step/sec: 774.466\n",
      "INFO:tensorflow:loss = 0.07806548, step = 4801 (0.130 sec)\n",
      "INFO:tensorflow:global_step/sec: 811.733\n",
      "INFO:tensorflow:loss = 0.56561404, step = 4901 (0.123 sec)\n",
      "INFO:tensorflow:global_step/sec: 801.31\n",
      "INFO:tensorflow:loss = 0.98259854, step = 5001 (0.125 sec)\n",
      "INFO:tensorflow:global_step/sec: 851.065\n",
      "INFO:tensorflow:loss = 0.016983194, step = 5101 (0.118 sec)\n",
      "INFO:tensorflow:global_step/sec: 922.527\n",
      "INFO:tensorflow:loss = 0.033173766, step = 5201 (0.107 sec)\n",
      "INFO:tensorflow:global_step/sec: 876.468\n",
      "INFO:tensorflow:loss = 0.28964186, step = 5301 (0.116 sec)\n",
      "INFO:tensorflow:global_step/sec: 881.881\n",
      "INFO:tensorflow:loss = 0.1437135, step = 5401 (0.112 sec)\n",
      "INFO:tensorflow:global_step/sec: 848.481\n",
      "INFO:tensorflow:loss = 0.011572847, step = 5501 (0.118 sec)\n",
      "INFO:tensorflow:global_step/sec: 838.13\n",
      "INFO:tensorflow:loss = 0.024395976, step = 5601 (0.121 sec)\n",
      "INFO:tensorflow:global_step/sec: 803.761\n",
      "INFO:tensorflow:loss = 0.3244021, step = 5701 (0.124 sec)\n",
      "INFO:tensorflow:global_step/sec: 887.345\n",
      "INFO:tensorflow:loss = 0.15334392, step = 5801 (0.112 sec)\n",
      "INFO:tensorflow:global_step/sec: 1030.58\n",
      "INFO:tensorflow:loss = 2.5858555, step = 5901 (0.097 sec)\n",
      "INFO:tensorflow:global_step/sec: 816.281\n",
      "INFO:tensorflow:loss = 1.4706606, step = 6001 (0.122 sec)\n",
      "INFO:tensorflow:global_step/sec: 804.82\n",
      "INFO:tensorflow:loss = 0.123350844, step = 6101 (0.124 sec)\n",
      "INFO:tensorflow:global_step/sec: 848.277\n",
      "INFO:tensorflow:loss = 0.03677424, step = 6201 (0.118 sec)\n",
      "INFO:tensorflow:global_step/sec: 829.785\n",
      "INFO:tensorflow:loss = 0.8731294, step = 6301 (0.122 sec)\n",
      "INFO:tensorflow:global_step/sec: 927.014\n",
      "INFO:tensorflow:loss = 0.26317966, step = 6401 (0.106 sec)\n",
      "INFO:tensorflow:global_step/sec: 925.736\n",
      "INFO:tensorflow:loss = 2.52485, step = 6501 (0.108 sec)\n",
      "INFO:tensorflow:global_step/sec: 833.844\n",
      "INFO:tensorflow:loss = 0.019536924, step = 6601 (0.120 sec)\n",
      "INFO:tensorflow:global_step/sec: 922.656\n",
      "INFO:tensorflow:loss = 0.03853969, step = 6701 (0.108 sec)\n",
      "INFO:tensorflow:global_step/sec: 641.748\n",
      "INFO:tensorflow:loss = 0.0193218, step = 6801 (0.158 sec)\n",
      "INFO:tensorflow:global_step/sec: 598.577\n",
      "INFO:tensorflow:loss = 0.29043865, step = 6901 (0.176 sec)\n",
      "INFO:tensorflow:global_step/sec: 642.145\n",
      "INFO:tensorflow:loss = 0.14197718, step = 7001 (0.146 sec)\n",
      "INFO:tensorflow:global_step/sec: 734.611\n",
      "INFO:tensorflow:loss = 0.030666228, step = 7101 (0.135 sec)\n",
      "INFO:tensorflow:global_step/sec: 767.785\n",
      "INFO:tensorflow:loss = 0.25260302, step = 7201 (0.131 sec)\n",
      "INFO:tensorflow:global_step/sec: 665.62\n",
      "INFO:tensorflow:loss = 0.9176875, step = 7301 (0.151 sec)\n",
      "INFO:tensorflow:global_step/sec: 871.678\n",
      "INFO:tensorflow:loss = 0.513372, step = 7401 (0.114 sec)\n",
      "INFO:tensorflow:global_step/sec: 871.001\n"
     ]
    },
    {
     "name": "stdout",
     "output_type": "stream",
     "text": [
      "INFO:tensorflow:loss = 0.008061609, step = 7501 (0.115 sec)\n",
      "INFO:tensorflow:global_step/sec: 895.606\n",
      "INFO:tensorflow:loss = 0.03684617, step = 7601 (0.111 sec)\n",
      "INFO:tensorflow:global_step/sec: 856.685\n",
      "INFO:tensorflow:loss = 0.068075955, step = 7701 (0.118 sec)\n",
      "INFO:tensorflow:global_step/sec: 877.414\n",
      "INFO:tensorflow:loss = 0.01717656, step = 7801 (0.112 sec)\n",
      "INFO:tensorflow:global_step/sec: 1058.57\n",
      "INFO:tensorflow:loss = 0.13632205, step = 7901 (0.095 sec)\n",
      "INFO:tensorflow:global_step/sec: 967.808\n",
      "INFO:tensorflow:loss = 0.06194767, step = 8001 (0.103 sec)\n",
      "INFO:tensorflow:global_step/sec: 1032.67\n",
      "INFO:tensorflow:loss = 0.022850769, step = 8101 (0.097 sec)\n",
      "INFO:tensorflow:global_step/sec: 849.166\n",
      "INFO:tensorflow:loss = 0.066716276, step = 8201 (0.118 sec)\n",
      "INFO:tensorflow:global_step/sec: 896.11\n",
      "INFO:tensorflow:loss = 0.3661701, step = 8301 (0.113 sec)\n",
      "INFO:tensorflow:global_step/sec: 1136.2\n",
      "INFO:tensorflow:loss = 0.20554207, step = 8401 (0.089 sec)\n",
      "INFO:tensorflow:global_step/sec: 876.571\n",
      "INFO:tensorflow:loss = 0.010114486, step = 8501 (0.113 sec)\n",
      "INFO:tensorflow:global_step/sec: 941.552\n",
      "INFO:tensorflow:loss = 0.11999058, step = 8601 (0.106 sec)\n",
      "INFO:tensorflow:global_step/sec: 869.016\n",
      "INFO:tensorflow:loss = 0.007257053, step = 8701 (0.116 sec)\n",
      "INFO:tensorflow:global_step/sec: 812.813\n",
      "INFO:tensorflow:loss = 0.006998194, step = 8801 (0.122 sec)\n",
      "INFO:tensorflow:global_step/sec: 1126.06\n",
      "INFO:tensorflow:loss = 0.007829099, step = 8901 (0.089 sec)\n",
      "INFO:tensorflow:global_step/sec: 828.377\n",
      "INFO:tensorflow:loss = 0.49091336, step = 9001 (0.120 sec)\n",
      "INFO:tensorflow:global_step/sec: 905.404\n",
      "INFO:tensorflow:loss = 0.4383801, step = 9101 (0.110 sec)\n",
      "INFO:tensorflow:global_step/sec: 785.397\n",
      "INFO:tensorflow:loss = 0.008871072, step = 9201 (0.127 sec)\n",
      "INFO:tensorflow:global_step/sec: 908.788\n",
      "INFO:tensorflow:loss = 0.44279766, step = 9301 (0.110 sec)\n",
      "INFO:tensorflow:global_step/sec: 865.485\n",
      "INFO:tensorflow:loss = 0.010250424, step = 9401 (0.115 sec)\n",
      "INFO:tensorflow:global_step/sec: 783.919\n",
      "INFO:tensorflow:loss = 0.022927083, step = 9501 (0.134 sec)\n",
      "INFO:tensorflow:global_step/sec: 860.458\n",
      "INFO:tensorflow:loss = 0.87005526, step = 9601 (0.110 sec)\n",
      "INFO:tensorflow:global_step/sec: 1026.55\n",
      "INFO:tensorflow:loss = 1.0262766, step = 9701 (0.099 sec)\n",
      "INFO:tensorflow:global_step/sec: 865.406\n",
      "INFO:tensorflow:loss = 0.09694874, step = 9801 (0.114 sec)\n",
      "INFO:tensorflow:global_step/sec: 917.998\n",
      "INFO:tensorflow:loss = 0.31812492, step = 9901 (0.110 sec)\n",
      "INFO:tensorflow:Saving checkpoints for 10000 into /tmp/tmphnn2md6u/model.ckpt.\n",
      "INFO:tensorflow:Loss for final step: 0.0061631626.\n"
     ]
    },
    {
     "data": {
      "text/plain": [
       "<tensorflow.python.estimator.canned.dnn.DNNClassifier at 0x7f3c44251da0>"
      ]
     },
     "execution_count": 346,
     "metadata": {},
     "output_type": "execute_result"
    }
   ],
   "source": [
    "#Create the model\n",
    "dnnClassifierModel = tf.estimator.DNNClassifier(\n",
    " feature_columns=feature_columns,\n",
    " hidden_units=[256, 32],\n",
    " optimizer=tf.train.AdamOptimizer(1e-4),\n",
    " n_classes=len(columns),\n",
    ")\n",
    "\n",
    "#Train the model\n",
    "dnnClassifierModel.train(input_fn=train_input_fn, steps=10000)"
   ]
  },
  {
   "cell_type": "markdown",
   "metadata": {},
   "source": [
    "## $\\triangleright$ Evaluate Deep Neural Network Classifier"
   ]
  },
  {
   "cell_type": "code",
   "execution_count": 347,
   "metadata": {},
   "outputs": [
    {
     "name": "stdout",
     "output_type": "stream",
     "text": [
      "INFO:tensorflow:Starting evaluation at 2019-04-03-16:57:36\n",
      "INFO:tensorflow:Restoring parameters from /tmp/tmphnn2md6u/model.ckpt-10000\n",
      "INFO:tensorflow:Finished evaluation at 2019-04-03-16:57:37\n",
      "INFO:tensorflow:Saving dict for global step 10000: accuracy = 0.82417583, average_loss = 0.4308836, global_step = 10000, loss = 39.210407\n"
     ]
    },
    {
     "data": {
      "text/plain": [
       "{'accuracy': 0.82417583,\n",
       " 'average_loss': 0.4308836,\n",
       " 'loss': 39.210407,\n",
       " 'global_step': 10000}"
      ]
     },
     "execution_count": 347,
     "metadata": {},
     "output_type": "execute_result"
    }
   ],
   "source": [
    "dnnClassifierModel.evaluate(evaluateInputFunction)"
   ]
  }
 ],
 "metadata": {
  "kernelspec": {
   "display_name": "Python 3",
   "language": "python",
   "name": "python3"
  },
  "language_info": {
   "codemirror_mode": {
    "name": "ipython",
    "version": 3
   },
   "file_extension": ".py",
   "mimetype": "text/x-python",
   "name": "python",
   "nbconvert_exporter": "python",
   "pygments_lexer": "ipython3",
   "version": "3.6.8"
  }
 },
 "nbformat": 4,
 "nbformat_minor": 2
}
